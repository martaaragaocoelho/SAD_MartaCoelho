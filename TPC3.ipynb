{
  "nbformat": 4,
  "nbformat_minor": 0,
  "metadata": {
    "colab": {
      "name": "TPC3.ipynb",
      "version": "0.3.2",
      "provenance": [],
      "collapsed_sections": []
    },
    "kernelspec": {
      "name": "python3",
      "display_name": "Python 3"
    }
  },
  "cells": [
    {
      "metadata": {
        "id": "98m7fJUGZulv",
        "colab_type": "text"
      },
      "cell_type": "markdown",
      "source": [
        "# TPC 3\n"
      ]
    },
    {
      "metadata": {
        "id": "Tt6tAcsfcY5l",
        "colab_type": "text"
      },
      "cell_type": "markdown",
      "source": [
        "## Data Set California Housing"
      ]
    },
    {
      "metadata": {
        "id": "O1C1NhFFdgE2",
        "colab_type": "code",
        "colab": {}
      },
      "cell_type": "code",
      "source": [
        "# NOTA: Entreguei o TPC dia 14/11 porque estive a estudar para um teste marcado para esse dia.\n",
        "# Peço desculpas\n",
        "\n",
        "# Start by importing the modules\n",
        "\n",
        "from sklearn import datasets\n",
        "import pandas as pd\n",
        "import numpy as np\n",
        "import matplotlib.pyplot as plt\n",
        "from sklearn.decomposition import PCA"
      ],
      "execution_count": 0,
      "outputs": []
    },
    {
      "metadata": {
        "id": "_4rq4X0cdkrv",
        "colab_type": "code",
        "colab": {
          "base_uri": "https://localhost:8080/",
          "height": 448
        },
        "outputId": "67efa595-8e0a-4ce5-d1dd-6eefe238ce32"
      },
      "cell_type": "code",
      "source": [
        "data = datasets.california_housing.fetch_california_housing()\n",
        "data"
      ],
      "execution_count": 56,
      "outputs": [
        {
          "output_type": "execute_result",
          "data": {
            "text/plain": [
              "{'DESCR': 'California housing dataset.\\n\\nThe original database is available from StatLib\\n\\n    http://lib.stat.cmu.edu/datasets/\\n\\nThe data contains 20,640 observations on 9 variables.\\n\\nThis dataset contains the average house value as target variable\\nand the following input variables (features): average income,\\nhousing average age, average rooms, average bedrooms, population,\\naverage occupation, latitude, and longitude in that order.\\n\\nReferences\\n----------\\n\\nPace, R. Kelley and Ronald Barry, Sparse Spatial Autoregressions,\\nStatistics and Probability Letters, 33 (1997) 291-297.\\n\\n',\n",
              " 'data': array([[   8.3252    ,   41.        ,    6.98412698, ...,    2.55555556,\n",
              "           37.88      , -122.23      ],\n",
              "        [   8.3014    ,   21.        ,    6.23813708, ...,    2.10984183,\n",
              "           37.86      , -122.22      ],\n",
              "        [   7.2574    ,   52.        ,    8.28813559, ...,    2.80225989,\n",
              "           37.85      , -122.24      ],\n",
              "        ...,\n",
              "        [   1.7       ,   17.        ,    5.20554273, ...,    2.3256351 ,\n",
              "           39.43      , -121.22      ],\n",
              "        [   1.8672    ,   18.        ,    5.32951289, ...,    2.12320917,\n",
              "           39.43      , -121.32      ],\n",
              "        [   2.3886    ,   16.        ,    5.25471698, ...,    2.61698113,\n",
              "           39.37      , -121.24      ]]),\n",
              " 'feature_names': ['MedInc',\n",
              "  'HouseAge',\n",
              "  'AveRooms',\n",
              "  'AveBedrms',\n",
              "  'Population',\n",
              "  'AveOccup',\n",
              "  'Latitude',\n",
              "  'Longitude'],\n",
              " 'target': array([4.526, 3.585, 3.521, ..., 0.923, 0.847, 0.894])}"
            ]
          },
          "metadata": {
            "tags": []
          },
          "execution_count": 56
        }
      ]
    },
    {
      "metadata": {
        "id": "7o8Au29EeEd_",
        "colab_type": "code",
        "colab": {
          "base_uri": "https://localhost:8080/",
          "height": 357
        },
        "outputId": "76aa1fab-eb03-4a75-e26c-a64ac639f8dc"
      },
      "cell_type": "code",
      "source": [
        "print(data.DESCR)"
      ],
      "execution_count": 57,
      "outputs": [
        {
          "output_type": "stream",
          "text": [
            "California housing dataset.\n",
            "\n",
            "The original database is available from StatLib\n",
            "\n",
            "    http://lib.stat.cmu.edu/datasets/\n",
            "\n",
            "The data contains 20,640 observations on 9 variables.\n",
            "\n",
            "This dataset contains the average house value as target variable\n",
            "and the following input variables (features): average income,\n",
            "housing average age, average rooms, average bedrooms, population,\n",
            "average occupation, latitude, and longitude in that order.\n",
            "\n",
            "References\n",
            "----------\n",
            "\n",
            "Pace, R. Kelley and Ronald Barry, Sparse Spatial Autoregressions,\n",
            "Statistics and Probability Letters, 33 (1997) 291-297.\n",
            "\n",
            "\n"
          ],
          "name": "stdout"
        }
      ]
    },
    {
      "metadata": {
        "id": "OBGQEnB3f4yq",
        "colab_type": "code",
        "colab": {
          "base_uri": "https://localhost:8080/",
          "height": 153
        },
        "outputId": "e2ca0e1a-25c3-4a1c-e3dd-0b6a1e59ec05"
      },
      "cell_type": "code",
      "source": [
        "data.feature_names"
      ],
      "execution_count": 58,
      "outputs": [
        {
          "output_type": "execute_result",
          "data": {
            "text/plain": [
              "['MedInc',\n",
              " 'HouseAge',\n",
              " 'AveRooms',\n",
              " 'AveBedrms',\n",
              " 'Population',\n",
              " 'AveOccup',\n",
              " 'Latitude',\n",
              " 'Longitude']"
            ]
          },
          "metadata": {
            "tags": []
          },
          "execution_count": 58
        }
      ]
    },
    {
      "metadata": {
        "id": "T6qS58YUgH_d",
        "colab_type": "code",
        "colab": {
          "base_uri": "https://localhost:8080/",
          "height": 204
        },
        "outputId": "d7bf30d3-0630-4a11-a400-67d7c46b9aed"
      },
      "cell_type": "code",
      "source": [
        "dframe = pd.DataFrame(data = data.data, columns=data.feature_names)\n",
        "dframe.head()"
      ],
      "execution_count": 59,
      "outputs": [
        {
          "output_type": "execute_result",
          "data": {
            "text/html": [
              "<div>\n",
              "<style scoped>\n",
              "    .dataframe tbody tr th:only-of-type {\n",
              "        vertical-align: middle;\n",
              "    }\n",
              "\n",
              "    .dataframe tbody tr th {\n",
              "        vertical-align: top;\n",
              "    }\n",
              "\n",
              "    .dataframe thead th {\n",
              "        text-align: right;\n",
              "    }\n",
              "</style>\n",
              "<table border=\"1\" class=\"dataframe\">\n",
              "  <thead>\n",
              "    <tr style=\"text-align: right;\">\n",
              "      <th></th>\n",
              "      <th>MedInc</th>\n",
              "      <th>HouseAge</th>\n",
              "      <th>AveRooms</th>\n",
              "      <th>AveBedrms</th>\n",
              "      <th>Population</th>\n",
              "      <th>AveOccup</th>\n",
              "      <th>Latitude</th>\n",
              "      <th>Longitude</th>\n",
              "    </tr>\n",
              "  </thead>\n",
              "  <tbody>\n",
              "    <tr>\n",
              "      <th>0</th>\n",
              "      <td>8.3252</td>\n",
              "      <td>41.0</td>\n",
              "      <td>6.984127</td>\n",
              "      <td>1.023810</td>\n",
              "      <td>322.0</td>\n",
              "      <td>2.555556</td>\n",
              "      <td>37.88</td>\n",
              "      <td>-122.23</td>\n",
              "    </tr>\n",
              "    <tr>\n",
              "      <th>1</th>\n",
              "      <td>8.3014</td>\n",
              "      <td>21.0</td>\n",
              "      <td>6.238137</td>\n",
              "      <td>0.971880</td>\n",
              "      <td>2401.0</td>\n",
              "      <td>2.109842</td>\n",
              "      <td>37.86</td>\n",
              "      <td>-122.22</td>\n",
              "    </tr>\n",
              "    <tr>\n",
              "      <th>2</th>\n",
              "      <td>7.2574</td>\n",
              "      <td>52.0</td>\n",
              "      <td>8.288136</td>\n",
              "      <td>1.073446</td>\n",
              "      <td>496.0</td>\n",
              "      <td>2.802260</td>\n",
              "      <td>37.85</td>\n",
              "      <td>-122.24</td>\n",
              "    </tr>\n",
              "    <tr>\n",
              "      <th>3</th>\n",
              "      <td>5.6431</td>\n",
              "      <td>52.0</td>\n",
              "      <td>5.817352</td>\n",
              "      <td>1.073059</td>\n",
              "      <td>558.0</td>\n",
              "      <td>2.547945</td>\n",
              "      <td>37.85</td>\n",
              "      <td>-122.25</td>\n",
              "    </tr>\n",
              "    <tr>\n",
              "      <th>4</th>\n",
              "      <td>3.8462</td>\n",
              "      <td>52.0</td>\n",
              "      <td>6.281853</td>\n",
              "      <td>1.081081</td>\n",
              "      <td>565.0</td>\n",
              "      <td>2.181467</td>\n",
              "      <td>37.85</td>\n",
              "      <td>-122.25</td>\n",
              "    </tr>\n",
              "  </tbody>\n",
              "</table>\n",
              "</div>"
            ],
            "text/plain": [
              "   MedInc  HouseAge  AveRooms  AveBedrms  Population  AveOccup  Latitude  \\\n",
              "0  8.3252      41.0  6.984127   1.023810       322.0  2.555556     37.88   \n",
              "1  8.3014      21.0  6.238137   0.971880      2401.0  2.109842     37.86   \n",
              "2  7.2574      52.0  8.288136   1.073446       496.0  2.802260     37.85   \n",
              "3  5.6431      52.0  5.817352   1.073059       558.0  2.547945     37.85   \n",
              "4  3.8462      52.0  6.281853   1.081081       565.0  2.181467     37.85   \n",
              "\n",
              "   Longitude  \n",
              "0    -122.23  \n",
              "1    -122.22  \n",
              "2    -122.24  \n",
              "3    -122.25  \n",
              "4    -122.25  "
            ]
          },
          "metadata": {
            "tags": []
          },
          "execution_count": 59
        }
      ]
    },
    {
      "metadata": {
        "id": "RcC0vtu1uPPw",
        "colab_type": "code",
        "colab": {
          "base_uri": "https://localhost:8080/",
          "height": 142
        },
        "outputId": "bcab7a26-966b-405e-ca37-a2bb293b5e94"
      },
      "cell_type": "code",
      "source": [
        "#Aggregation\n",
        "dframe['MedInc'].agg(['min','max','mean'])\n",
        "dframe.agg({'MedInc': ['min','max'],'AveRooms':['min','max']})\n",
        "dframe.agg(['min','max','mean'])\n"
      ],
      "execution_count": 60,
      "outputs": [
        {
          "output_type": "execute_result",
          "data": {
            "text/html": [
              "<div>\n",
              "<style scoped>\n",
              "    .dataframe tbody tr th:only-of-type {\n",
              "        vertical-align: middle;\n",
              "    }\n",
              "\n",
              "    .dataframe tbody tr th {\n",
              "        vertical-align: top;\n",
              "    }\n",
              "\n",
              "    .dataframe thead th {\n",
              "        text-align: right;\n",
              "    }\n",
              "</style>\n",
              "<table border=\"1\" class=\"dataframe\">\n",
              "  <thead>\n",
              "    <tr style=\"text-align: right;\">\n",
              "      <th></th>\n",
              "      <th>MedInc</th>\n",
              "      <th>HouseAge</th>\n",
              "      <th>AveRooms</th>\n",
              "      <th>AveBedrms</th>\n",
              "      <th>Population</th>\n",
              "      <th>AveOccup</th>\n",
              "      <th>Latitude</th>\n",
              "      <th>Longitude</th>\n",
              "    </tr>\n",
              "  </thead>\n",
              "  <tbody>\n",
              "    <tr>\n",
              "      <th>min</th>\n",
              "      <td>0.499900</td>\n",
              "      <td>1.000000</td>\n",
              "      <td>0.846154</td>\n",
              "      <td>0.333333</td>\n",
              "      <td>3.000000</td>\n",
              "      <td>0.692308</td>\n",
              "      <td>32.540000</td>\n",
              "      <td>-124.350000</td>\n",
              "    </tr>\n",
              "    <tr>\n",
              "      <th>max</th>\n",
              "      <td>15.000100</td>\n",
              "      <td>52.000000</td>\n",
              "      <td>141.909091</td>\n",
              "      <td>34.066667</td>\n",
              "      <td>35682.000000</td>\n",
              "      <td>1243.333333</td>\n",
              "      <td>41.950000</td>\n",
              "      <td>-114.310000</td>\n",
              "    </tr>\n",
              "    <tr>\n",
              "      <th>mean</th>\n",
              "      <td>3.870671</td>\n",
              "      <td>28.639486</td>\n",
              "      <td>5.429000</td>\n",
              "      <td>1.096675</td>\n",
              "      <td>1425.476744</td>\n",
              "      <td>3.070655</td>\n",
              "      <td>35.631861</td>\n",
              "      <td>-119.569704</td>\n",
              "    </tr>\n",
              "  </tbody>\n",
              "</table>\n",
              "</div>"
            ],
            "text/plain": [
              "         MedInc   HouseAge    AveRooms  AveBedrms    Population     AveOccup  \\\n",
              "min    0.499900   1.000000    0.846154   0.333333      3.000000     0.692308   \n",
              "max   15.000100  52.000000  141.909091  34.066667  35682.000000  1243.333333   \n",
              "mean   3.870671  28.639486    5.429000   1.096675   1425.476744     3.070655   \n",
              "\n",
              "       Latitude   Longitude  \n",
              "min   32.540000 -124.350000  \n",
              "max   41.950000 -114.310000  \n",
              "mean  35.631861 -119.569704  "
            ]
          },
          "metadata": {
            "tags": []
          },
          "execution_count": 60
        }
      ]
    },
    {
      "metadata": {
        "id": "HwR64AgQu9PK",
        "colab_type": "code",
        "colab": {
          "base_uri": "https://localhost:8080/",
          "height": 297
        },
        "outputId": "47d5aa2a-5860-42e3-84ad-ac6ada31ecd0"
      },
      "cell_type": "code",
      "source": [
        "#Sampling\n",
        "dframe.sample(n=8, replace=False, weights=None, random_state=None, axis=0)\n"
      ],
      "execution_count": 61,
      "outputs": [
        {
          "output_type": "execute_result",
          "data": {
            "text/html": [
              "<div>\n",
              "<style scoped>\n",
              "    .dataframe tbody tr th:only-of-type {\n",
              "        vertical-align: middle;\n",
              "    }\n",
              "\n",
              "    .dataframe tbody tr th {\n",
              "        vertical-align: top;\n",
              "    }\n",
              "\n",
              "    .dataframe thead th {\n",
              "        text-align: right;\n",
              "    }\n",
              "</style>\n",
              "<table border=\"1\" class=\"dataframe\">\n",
              "  <thead>\n",
              "    <tr style=\"text-align: right;\">\n",
              "      <th></th>\n",
              "      <th>MedInc</th>\n",
              "      <th>HouseAge</th>\n",
              "      <th>AveRooms</th>\n",
              "      <th>AveBedrms</th>\n",
              "      <th>Population</th>\n",
              "      <th>AveOccup</th>\n",
              "      <th>Latitude</th>\n",
              "      <th>Longitude</th>\n",
              "    </tr>\n",
              "  </thead>\n",
              "  <tbody>\n",
              "    <tr>\n",
              "      <th>20578</th>\n",
              "      <td>2.8542</td>\n",
              "      <td>37.0</td>\n",
              "      <td>5.253731</td>\n",
              "      <td>0.970149</td>\n",
              "      <td>238.0</td>\n",
              "      <td>3.552239</td>\n",
              "      <td>38.84</td>\n",
              "      <td>-121.81</td>\n",
              "    </tr>\n",
              "    <tr>\n",
              "      <th>7557</th>\n",
              "      <td>2.0134</td>\n",
              "      <td>35.0</td>\n",
              "      <td>3.817280</td>\n",
              "      <td>1.059490</td>\n",
              "      <td>2935.0</td>\n",
              "      <td>4.157224</td>\n",
              "      <td>33.91</td>\n",
              "      <td>-118.19</td>\n",
              "    </tr>\n",
              "    <tr>\n",
              "      <th>2766</th>\n",
              "      <td>2.8684</td>\n",
              "      <td>20.0</td>\n",
              "      <td>6.766102</td>\n",
              "      <td>1.745763</td>\n",
              "      <td>659.0</td>\n",
              "      <td>2.233898</td>\n",
              "      <td>33.41</td>\n",
              "      <td>-116.01</td>\n",
              "    </tr>\n",
              "    <tr>\n",
              "      <th>19780</th>\n",
              "      <td>3.6310</td>\n",
              "      <td>32.0</td>\n",
              "      <td>9.179775</td>\n",
              "      <td>2.314607</td>\n",
              "      <td>224.0</td>\n",
              "      <td>2.516854</td>\n",
              "      <td>41.15</td>\n",
              "      <td>-122.68</td>\n",
              "    </tr>\n",
              "    <tr>\n",
              "      <th>9664</th>\n",
              "      <td>2.0903</td>\n",
              "      <td>34.0</td>\n",
              "      <td>7.612360</td>\n",
              "      <td>1.471910</td>\n",
              "      <td>434.0</td>\n",
              "      <td>2.438202</td>\n",
              "      <td>41.79</td>\n",
              "      <td>-120.08</td>\n",
              "    </tr>\n",
              "    <tr>\n",
              "      <th>2852</th>\n",
              "      <td>3.0568</td>\n",
              "      <td>41.0</td>\n",
              "      <td>5.953202</td>\n",
              "      <td>1.071429</td>\n",
              "      <td>973.0</td>\n",
              "      <td>2.396552</td>\n",
              "      <td>35.38</td>\n",
              "      <td>-118.96</td>\n",
              "    </tr>\n",
              "    <tr>\n",
              "      <th>1659</th>\n",
              "      <td>8.7059</td>\n",
              "      <td>13.0</td>\n",
              "      <td>7.419355</td>\n",
              "      <td>0.912442</td>\n",
              "      <td>703.0</td>\n",
              "      <td>3.239631</td>\n",
              "      <td>37.93</td>\n",
              "      <td>-121.91</td>\n",
              "    </tr>\n",
              "    <tr>\n",
              "      <th>12558</th>\n",
              "      <td>2.7787</td>\n",
              "      <td>47.0</td>\n",
              "      <td>4.750000</td>\n",
              "      <td>1.024590</td>\n",
              "      <td>810.0</td>\n",
              "      <td>3.319672</td>\n",
              "      <td>38.54</td>\n",
              "      <td>-121.45</td>\n",
              "    </tr>\n",
              "  </tbody>\n",
              "</table>\n",
              "</div>"
            ],
            "text/plain": [
              "       MedInc  HouseAge  AveRooms  AveBedrms  Population  AveOccup  Latitude  \\\n",
              "20578  2.8542      37.0  5.253731   0.970149       238.0  3.552239     38.84   \n",
              "7557   2.0134      35.0  3.817280   1.059490      2935.0  4.157224     33.91   \n",
              "2766   2.8684      20.0  6.766102   1.745763       659.0  2.233898     33.41   \n",
              "19780  3.6310      32.0  9.179775   2.314607       224.0  2.516854     41.15   \n",
              "9664   2.0903      34.0  7.612360   1.471910       434.0  2.438202     41.79   \n",
              "2852   3.0568      41.0  5.953202   1.071429       973.0  2.396552     35.38   \n",
              "1659   8.7059      13.0  7.419355   0.912442       703.0  3.239631     37.93   \n",
              "12558  2.7787      47.0  4.750000   1.024590       810.0  3.319672     38.54   \n",
              "\n",
              "       Longitude  \n",
              "20578    -121.81  \n",
              "7557     -118.19  \n",
              "2766     -116.01  \n",
              "19780    -122.68  \n",
              "9664     -120.08  \n",
              "2852     -118.96  \n",
              "1659     -121.91  \n",
              "12558    -121.45  "
            ]
          },
          "metadata": {
            "tags": []
          },
          "execution_count": 61
        }
      ]
    },
    {
      "metadata": {
        "id": "G-HIlnw9x0ed",
        "colab_type": "code",
        "colab": {
          "base_uri": "https://localhost:8080/",
          "height": 347
        },
        "outputId": "751d6296-d35b-4c6a-db07-55caeb4b1f48"
      },
      "cell_type": "code",
      "source": [
        "#Dimensionality Reduction\n",
        "from sklearn import preprocessing\n",
        "D = data.data\n",
        "stdscaler = preprocessing.StandardScaler()\n",
        "scaler = stdscaler.fit(D)\n",
        "D_norm = scaler.transform(D)\n",
        "\n",
        "plt.plot(D_norm[:,2], D_norm[:,3], \".\")\n",
        "plt.show()"
      ],
      "execution_count": 62,
      "outputs": [
        {
          "output_type": "display_data",
          "data": {
            "image/png": "[encoded data removed]",
            "text/plain": [
              "<matplotlib.figure.Figure at 0x7faa3f401358>"
            ]
          },
          "metadata": {
            "tags": []
          }
        }
      ]
    },
    {
      "metadata": {
        "id": "nhFN6FJGmuVR",
        "colab_type": "code",
        "colab": {
          "base_uri": "https://localhost:8080/",
          "height": 142
        },
        "outputId": "2f0a239b-5fcb-4c41-8278-e2ba247f377e"
      },
      "cell_type": "code",
      "source": [
        "#Feature Subset Selection\n",
        "dframe[['MedInc', 'AveRooms', 'Population']]\n",
        "dframe.iloc[[5,768,12345]]\n",
        "dframe.iloc[20630:]\n",
        "dframe.iloc[[2,3], [0, 4]]\n",
        "dframe.iloc[3:6, [1, 4]]\n"
      ],
      "execution_count": 63,
      "outputs": [
        {
          "output_type": "execute_result",
          "data": {
            "text/html": [
              "<div>\n",
              "<style scoped>\n",
              "    .dataframe tbody tr th:only-of-type {\n",
              "        vertical-align: middle;\n",
              "    }\n",
              "\n",
              "    .dataframe tbody tr th {\n",
              "        vertical-align: top;\n",
              "    }\n",
              "\n",
              "    .dataframe thead th {\n",
              "        text-align: right;\n",
              "    }\n",
              "</style>\n",
              "<table border=\"1\" class=\"dataframe\">\n",
              "  <thead>\n",
              "    <tr style=\"text-align: right;\">\n",
              "      <th></th>\n",
              "      <th>HouseAge</th>\n",
              "      <th>Population</th>\n",
              "    </tr>\n",
              "  </thead>\n",
              "  <tbody>\n",
              "    <tr>\n",
              "      <th>3</th>\n",
              "      <td>52.0</td>\n",
              "      <td>558.0</td>\n",
              "    </tr>\n",
              "    <tr>\n",
              "      <th>4</th>\n",
              "      <td>52.0</td>\n",
              "      <td>565.0</td>\n",
              "    </tr>\n",
              "    <tr>\n",
              "      <th>5</th>\n",
              "      <td>52.0</td>\n",
              "      <td>413.0</td>\n",
              "    </tr>\n",
              "  </tbody>\n",
              "</table>\n",
              "</div>"
            ],
            "text/plain": [
              "   HouseAge  Population\n",
              "3      52.0       558.0\n",
              "4      52.0       565.0\n",
              "5      52.0       413.0"
            ]
          },
          "metadata": {
            "tags": []
          },
          "execution_count": 63
        }
      ]
    },
    {
      "metadata": {
        "id": "y642P_97mxPn",
        "colab_type": "code",
        "colab": {
          "base_uri": "https://localhost:8080/",
          "height": 393
        },
        "outputId": "e3ed86bc-7d9d-43d9-e803-dbd862314153"
      },
      "cell_type": "code",
      "source": [
        "#Feature Creation\n",
        "new_data =np.concatenate((data.data, data.target.reshape(-1,1)*100000), axis=1)\n",
        "print(type(data.feature_names))\n",
        "names = data.feature_names + [\"Preços\"]\n",
        "print(names)\n",
        "dframe = pd.DataFrame(data=new_data, columns=names)\n",
        "\n",
        "dframe.iloc[20630:]"
      ],
      "execution_count": 64,
      "outputs": [
        {
          "output_type": "stream",
          "text": [
            "<class 'list'>\n",
            "['MedInc', 'HouseAge', 'AveRooms', 'AveBedrms', 'Population', 'AveOccup', 'Latitude', 'Longitude', 'Preços']\n"
          ],
          "name": "stdout"
        },
        {
          "output_type": "execute_result",
          "data": {
            "text/html": [
              "<div>\n",
              "<style scoped>\n",
              "    .dataframe tbody tr th:only-of-type {\n",
              "        vertical-align: middle;\n",
              "    }\n",
              "\n",
              "    .dataframe tbody tr th {\n",
              "        vertical-align: top;\n",
              "    }\n",
              "\n",
              "    .dataframe thead th {\n",
              "        text-align: right;\n",
              "    }\n",
              "</style>\n",
              "<table border=\"1\" class=\"dataframe\">\n",
              "  <thead>\n",
              "    <tr style=\"text-align: right;\">\n",
              "      <th></th>\n",
              "      <th>MedInc</th>\n",
              "      <th>HouseAge</th>\n",
              "      <th>AveRooms</th>\n",
              "      <th>AveBedrms</th>\n",
              "      <th>Population</th>\n",
              "      <th>AveOccup</th>\n",
              "      <th>Latitude</th>\n",
              "      <th>Longitude</th>\n",
              "      <th>Preços</th>\n",
              "    </tr>\n",
              "  </thead>\n",
              "  <tbody>\n",
              "    <tr>\n",
              "      <th>20630</th>\n",
              "      <td>3.5673</td>\n",
              "      <td>11.0</td>\n",
              "      <td>5.932584</td>\n",
              "      <td>1.134831</td>\n",
              "      <td>1257.0</td>\n",
              "      <td>2.824719</td>\n",
              "      <td>39.29</td>\n",
              "      <td>-121.32</td>\n",
              "      <td>112000.0</td>\n",
              "    </tr>\n",
              "    <tr>\n",
              "      <th>20631</th>\n",
              "      <td>3.5179</td>\n",
              "      <td>15.0</td>\n",
              "      <td>6.145833</td>\n",
              "      <td>1.141204</td>\n",
              "      <td>1200.0</td>\n",
              "      <td>2.777778</td>\n",
              "      <td>39.33</td>\n",
              "      <td>-121.40</td>\n",
              "      <td>107200.0</td>\n",
              "    </tr>\n",
              "    <tr>\n",
              "      <th>20632</th>\n",
              "      <td>3.1250</td>\n",
              "      <td>15.0</td>\n",
              "      <td>6.023377</td>\n",
              "      <td>1.080519</td>\n",
              "      <td>1047.0</td>\n",
              "      <td>2.719481</td>\n",
              "      <td>39.26</td>\n",
              "      <td>-121.45</td>\n",
              "      <td>115600.0</td>\n",
              "    </tr>\n",
              "    <tr>\n",
              "      <th>20633</th>\n",
              "      <td>2.5495</td>\n",
              "      <td>27.0</td>\n",
              "      <td>5.445026</td>\n",
              "      <td>1.078534</td>\n",
              "      <td>1082.0</td>\n",
              "      <td>2.832461</td>\n",
              "      <td>39.19</td>\n",
              "      <td>-121.53</td>\n",
              "      <td>98300.0</td>\n",
              "    </tr>\n",
              "    <tr>\n",
              "      <th>20634</th>\n",
              "      <td>3.7125</td>\n",
              "      <td>28.0</td>\n",
              "      <td>6.779070</td>\n",
              "      <td>1.148256</td>\n",
              "      <td>1041.0</td>\n",
              "      <td>3.026163</td>\n",
              "      <td>39.27</td>\n",
              "      <td>-121.56</td>\n",
              "      <td>116800.0</td>\n",
              "    </tr>\n",
              "    <tr>\n",
              "      <th>20635</th>\n",
              "      <td>1.5603</td>\n",
              "      <td>25.0</td>\n",
              "      <td>5.045455</td>\n",
              "      <td>1.133333</td>\n",
              "      <td>845.0</td>\n",
              "      <td>2.560606</td>\n",
              "      <td>39.48</td>\n",
              "      <td>-121.09</td>\n",
              "      <td>78100.0</td>\n",
              "    </tr>\n",
              "    <tr>\n",
              "      <th>20636</th>\n",
              "      <td>2.5568</td>\n",
              "      <td>18.0</td>\n",
              "      <td>6.114035</td>\n",
              "      <td>1.315789</td>\n",
              "      <td>356.0</td>\n",
              "      <td>3.122807</td>\n",
              "      <td>39.49</td>\n",
              "      <td>-121.21</td>\n",
              "      <td>77100.0</td>\n",
              "    </tr>\n",
              "    <tr>\n",
              "      <th>20637</th>\n",
              "      <td>1.7000</td>\n",
              "      <td>17.0</td>\n",
              "      <td>5.205543</td>\n",
              "      <td>1.120092</td>\n",
              "      <td>1007.0</td>\n",
              "      <td>2.325635</td>\n",
              "      <td>39.43</td>\n",
              "      <td>-121.22</td>\n",
              "      <td>92300.0</td>\n",
              "    </tr>\n",
              "    <tr>\n",
              "      <th>20638</th>\n",
              "      <td>1.8672</td>\n",
              "      <td>18.0</td>\n",
              "      <td>5.329513</td>\n",
              "      <td>1.171920</td>\n",
              "      <td>741.0</td>\n",
              "      <td>2.123209</td>\n",
              "      <td>39.43</td>\n",
              "      <td>-121.32</td>\n",
              "      <td>84700.0</td>\n",
              "    </tr>\n",
              "    <tr>\n",
              "      <th>20639</th>\n",
              "      <td>2.3886</td>\n",
              "      <td>16.0</td>\n",
              "      <td>5.254717</td>\n",
              "      <td>1.162264</td>\n",
              "      <td>1387.0</td>\n",
              "      <td>2.616981</td>\n",
              "      <td>39.37</td>\n",
              "      <td>-121.24</td>\n",
              "      <td>89400.0</td>\n",
              "    </tr>\n",
              "  </tbody>\n",
              "</table>\n",
              "</div>"
            ],
            "text/plain": [
              "       MedInc  HouseAge  AveRooms  AveBedrms  Population  AveOccup  Latitude  \\\n",
              "20630  3.5673      11.0  5.932584   1.134831      1257.0  2.824719     39.29   \n",
              "20631  3.5179      15.0  6.145833   1.141204      1200.0  2.777778     39.33   \n",
              "20632  3.1250      15.0  6.023377   1.080519      1047.0  2.719481     39.26   \n",
              "20633  2.5495      27.0  5.445026   1.078534      1082.0  2.832461     39.19   \n",
              "20634  3.7125      28.0  6.779070   1.148256      1041.0  3.026163     39.27   \n",
              "20635  1.5603      25.0  5.045455   1.133333       845.0  2.560606     39.48   \n",
              "20636  2.5568      18.0  6.114035   1.315789       356.0  3.122807     39.49   \n",
              "20637  1.7000      17.0  5.205543   1.120092      1007.0  2.325635     39.43   \n",
              "20638  1.8672      18.0  5.329513   1.171920       741.0  2.123209     39.43   \n",
              "20639  2.3886      16.0  5.254717   1.162264      1387.0  2.616981     39.37   \n",
              "\n",
              "       Longitude    Preços  \n",
              "20630    -121.32  112000.0  \n",
              "20631    -121.40  107200.0  \n",
              "20632    -121.45  115600.0  \n",
              "20633    -121.53   98300.0  \n",
              "20634    -121.56  116800.0  \n",
              "20635    -121.09   78100.0  \n",
              "20636    -121.21   77100.0  \n",
              "20637    -121.22   92300.0  \n",
              "20638    -121.32   84700.0  \n",
              "20639    -121.24   89400.0  "
            ]
          },
          "metadata": {
            "tags": []
          },
          "execution_count": 64
        }
      ]
    },
    {
      "metadata": {
        "id": "b_PvRTxOm0Ze",
        "colab_type": "code",
        "colab": {
          "base_uri": "https://localhost:8080/",
          "height": 376
        },
        "outputId": "30113c92-ca77-469b-cf92-ee758c2c6bf6"
      },
      "cell_type": "code",
      "source": [
        "#Discretization and Binarization\n",
        "from sklearn import preprocessing\n",
        "\n",
        "binarizer = preprocessing.Binarizer().fit(D)\n",
        "print(binarizer)\n",
        "binarizer.threshold=3.5\n",
        "D\n",
        "binarizer.transform(D)[:10,:]\n",
        "\n",
        "A =np.random.uniform(0,4, size=(10,3))\n",
        "for _ in range(10):\n",
        "    A[np.random.randint(0,10),np.random.randint(0,3)]=np.nan\n",
        "A\n",
        "\n",
        "dfA = pd.DataFrame(A)\n",
        "dfA\n",
        "\n",
        "dfA.fillna(dfA.mean(axis=0))\n",
        "\n",
        "dfA.loc[dfA[0]!= np.nan,:]"
      ],
      "execution_count": 65,
      "outputs": [
        {
          "output_type": "stream",
          "text": [
            "Binarizer(copy=True, threshold=0.0)\n"
          ],
          "name": "stdout"
        },
        {
          "output_type": "execute_result",
          "data": {
            "text/html": [
              "<div>\n",
              "<style scoped>\n",
              "    .dataframe tbody tr th:only-of-type {\n",
              "        vertical-align: middle;\n",
              "    }\n",
              "\n",
              "    .dataframe tbody tr th {\n",
              "        vertical-align: top;\n",
              "    }\n",
              "\n",
              "    .dataframe thead th {\n",
              "        text-align: right;\n",
              "    }\n",
              "</style>\n",
              "<table border=\"1\" class=\"dataframe\">\n",
              "  <thead>\n",
              "    <tr style=\"text-align: right;\">\n",
              "      <th></th>\n",
              "      <th>0</th>\n",
              "      <th>1</th>\n",
              "      <th>2</th>\n",
              "    </tr>\n",
              "  </thead>\n",
              "  <tbody>\n",
              "    <tr>\n",
              "      <th>0</th>\n",
              "      <td>3.998352</td>\n",
              "      <td>0.361630</td>\n",
              "      <td>1.115554</td>\n",
              "    </tr>\n",
              "    <tr>\n",
              "      <th>1</th>\n",
              "      <td>NaN</td>\n",
              "      <td>3.214200</td>\n",
              "      <td>2.261125</td>\n",
              "    </tr>\n",
              "    <tr>\n",
              "      <th>2</th>\n",
              "      <td>NaN</td>\n",
              "      <td>NaN</td>\n",
              "      <td>0.464002</td>\n",
              "    </tr>\n",
              "    <tr>\n",
              "      <th>3</th>\n",
              "      <td>2.469136</td>\n",
              "      <td>2.891873</td>\n",
              "      <td>2.606880</td>\n",
              "    </tr>\n",
              "    <tr>\n",
              "      <th>4</th>\n",
              "      <td>3.471351</td>\n",
              "      <td>2.943454</td>\n",
              "      <td>2.859142</td>\n",
              "    </tr>\n",
              "    <tr>\n",
              "      <th>5</th>\n",
              "      <td>1.417883</td>\n",
              "      <td>NaN</td>\n",
              "      <td>3.950047</td>\n",
              "    </tr>\n",
              "    <tr>\n",
              "      <th>6</th>\n",
              "      <td>0.598152</td>\n",
              "      <td>0.794163</td>\n",
              "      <td>3.558559</td>\n",
              "    </tr>\n",
              "    <tr>\n",
              "      <th>7</th>\n",
              "      <td>3.493165</td>\n",
              "      <td>NaN</td>\n",
              "      <td>1.505907</td>\n",
              "    </tr>\n",
              "    <tr>\n",
              "      <th>8</th>\n",
              "      <td>2.138202</td>\n",
              "      <td>1.786432</td>\n",
              "      <td>NaN</td>\n",
              "    </tr>\n",
              "    <tr>\n",
              "      <th>9</th>\n",
              "      <td>NaN</td>\n",
              "      <td>1.948544</td>\n",
              "      <td>2.190821</td>\n",
              "    </tr>\n",
              "  </tbody>\n",
              "</table>\n",
              "</div>"
            ],
            "text/plain": [
              "          0         1         2\n",
              "0  3.998352  0.361630  1.115554\n",
              "1       NaN  3.214200  2.261125\n",
              "2       NaN       NaN  0.464002\n",
              "3  2.469136  2.891873  2.606880\n",
              "4  3.471351  2.943454  2.859142\n",
              "5  1.417883       NaN  3.950047\n",
              "6  0.598152  0.794163  3.558559\n",
              "7  3.493165       NaN  1.505907\n",
              "8  2.138202  1.786432       NaN\n",
              "9       NaN  1.948544  2.190821"
            ]
          },
          "metadata": {
            "tags": []
          },
          "execution_count": 65
        }
      ]
    },
    {
      "metadata": {
        "id": "68vcsNKKm3eV",
        "colab_type": "code",
        "colab": {
          "base_uri": "https://localhost:8080/",
          "height": 136
        },
        "outputId": "ef511235-8002-467d-80fd-685d9e95755e"
      },
      "cell_type": "code",
      "source": [
        "#Attribute Transformation\n",
        "dframe.transform(lambda x: (x - x.mean()) / x.std())\n",
        "\n",
        "dframe[\"Population\"] = dframe[\"AveRooms\"] / dframe[\"AveBedrms\"]\n",
        "dframe[\"Population\"][20634:]\n"
      ],
      "execution_count": 66,
      "outputs": [
        {
          "output_type": "execute_result",
          "data": {
            "text/plain": [
              "20634    5.903797\n",
              "20635    4.451872\n",
              "20636    4.646667\n",
              "20637    4.647423\n",
              "20638    4.547677\n",
              "20639    4.521104\n",
              "Name: Population, dtype: float64"
            ]
          },
          "metadata": {
            "tags": []
          },
          "execution_count": 66
        }
      ]
    }
  ]
}