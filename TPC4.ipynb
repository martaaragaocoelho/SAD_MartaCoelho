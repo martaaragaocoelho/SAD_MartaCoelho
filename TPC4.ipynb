{
  "nbformat": 4,
  "nbformat_minor": 0,
  "metadata": {
    "colab": {
      "name": "TPC4.ipynb",
      "version": "0.3.2",
      "provenance": [],
      "collapsed_sections": []
    },
    "kernelspec": {
      "name": "python3",
      "display_name": "Python 3"
    }
  },
  "cells": [
    {
      "metadata": {
        "id": "6MSqxNS8mp-Z",
        "colab_type": "code",
        "colab": {}
      },
      "cell_type": "code",
      "source": [
        "# Import datasets, classifiers and performance metrics\n",
        "from sklearn import datasets, tree, model_selection\n",
        "\n",
        "# The digits dataset\n",
        "\n",
        "import pandas as pd\n",
        "digits = datasets.load_digits()\n",
        "\n",
        "from sklearn.datasets import make_classification\n",
        "from sklearn import tree\n",
        "import numpy as np\n",
        "import matplotlib.pyplot as plt\n",
        "from sklearn.ensemble import RandomForestClassifier\n",
        "from sklearn.tree import DecisionTreeClassifier\n",
        "from sklearn.naive_bayes import GaussianNB\n",
        "from sklearn import tree\n",
        "\n"
      ],
      "execution_count": 0,
      "outputs": []
    },
    {
      "metadata": {
        "id": "6_9fVJsGm2WL",
        "colab_type": "code",
        "outputId": "7022d6a8-706f-48e3-8988-cf2588319d31",
        "colab": {
          "base_uri": "https://localhost:8080/",
          "height": 153
        }
      },
      "cell_type": "code",
      "source": [
        "!pip install graphviz\n",
        "!pip install pydot\n",
        "!apt-get install graphviz"
      ],
      "execution_count": 0,
      "outputs": [
        {
          "output_type": "stream",
          "text": [
            "Requirement already satisfied: graphviz in /usr/local/lib/python3.6/dist-packages (0.10.1)\n",
            "Requirement already satisfied: pydot in /usr/local/lib/python3.6/dist-packages (1.4.0)\n",
            "Requirement already satisfied: pyparsing>=2.1.4 in /usr/local/lib/python3.6/dist-packages (from pydot) (2.3.0)\n",
            "Reading package lists... Done\n",
            "Building dependency tree       \n",
            "Reading state information... Done\n",
            "graphviz is already the newest version (2.40.1-2).\n",
            "0 upgraded, 0 newly installed, 0 to remove and 8 not upgraded.\n"
          ],
          "name": "stdout"
        }
      ]
    },
    {
      "metadata": {
        "id": "aip_Z7x0X4or",
        "colab_type": "text"
      },
      "cell_type": "markdown",
      "source": [
        "# Decision Tree\n"
      ]
    },
    {
      "metadata": {
        "id": "vtBFeNjKwYKH",
        "colab_type": "code",
        "outputId": "433ba80f-57df-4bd8-f55c-e33d156f8ca2",
        "colab": {
          "base_uri": "https://localhost:8080/",
          "height": 420
        }
      },
      "cell_type": "code",
      "source": [
        "from sklearn import datasets, tree, model_selection\n",
        "import pandas as pd\n",
        "import numpy as np\n",
        "import matplotlib.pyplot as plt\n",
        "\n",
        "\n",
        "digits = datasets.load_digits()\n",
        "\n",
        "[features_train, features_test, classes_train, classes_test] = model_selection.train_test_split(digits.data, digits.target, test_size=0.20)\n",
        "model = tree.DecisionTreeClassifier()\n",
        "\n",
        "\n",
        "clf = tree.DecisionTreeClassifier()\n",
        "clf = model.fit(features_train, classes_train)\n",
        "classifier = DecisionTreeClassifier()\n",
        "\n",
        "score_train = model.score(features_train, classes_train)\n",
        "score_test = model.score(features_test, classes_test)\n",
        "\n",
        "print(\"Features:\", digits.target_names)\n",
        "print(\"score_train:\", score_train)\n",
        "print(\"score_test:\", score_test)\n",
        "\n",
        "\n",
        "import graphviz \n",
        "dot_data = tree.export_graphviz(clf, out_file=None) \n",
        "graph = graphviz.Source(dot_data) \n",
        "graph.render(\"digitos\")\n",
        "\n",
        "res=model.predict(features_test)\n",
        "\n",
        "#Algarismos mal classificados\n",
        "\n",
        "err_features=features_test[res!=classes_test,:][:2]\n",
        "\n",
        "print(\"Wrong Predictions\")\n",
        "\n",
        "plt.figure(figsize=(20,4))\n",
        "for i, feat in enumerate(err_features[0:10]):\n",
        "  plt.subplot(1, 10, i+1)\n",
        "  plt.imshow(feat.reshape(8,8), cmap=plt.cm.gray)\n",
        "plt.show()\n",
        "\n",
        "print(\"predict:\",res[res!=classes_test][0:10])\n",
        "print(\"actual:\",classes_test[res!=classes_test][0:10])\n",
        "\n",
        "\n",
        "#Algarismos bem classificados\n",
        "\n",
        "ok_features=features_test[res==classes_test,:][:2]\n",
        "\n",
        "print(\"Right Predictions\")\n",
        "\n",
        "plt.figure(figsize=(20,4))\n",
        "for i, feat in enumerate(ok_features[0:10]):\n",
        "  plt.subplot(1,10,i+1)\n",
        "  plt.imshow(feat.reshape(8,8), cmap=plt.cm.gray)\n",
        "plt.show()\n",
        "\n",
        "print(\"predict:\",res[res==classes_test][0:10])\n",
        "print(\"actual:\",classes_test[res==classes_test][0:10])\n",
        "\n",
        " "
      ],
      "execution_count": 0,
      "outputs": [
        {
          "output_type": "stream",
          "text": [
            "Features: [0 1 2 3 4 5 6 7 8 9]\n",
            "score_train: 1.0\n",
            "score_test: 0.8611111111111112\n",
            "Wrong Predictions\n"
          ],
          "name": "stdout"
        },
        {
          "output_type": "display_data",
          "data": {
            "image/png": "[encoded data removed]",
            "text/plain": [
              "<matplotlib.figure.Figure at 0x7facf5a752e8>"
            ]
          },
          "metadata": {
            "tags": []
          }
        },
        {
          "output_type": "stream",
          "text": [
            "predict: [1 1 7 6 8 4 9 4 4 8]\n",
            "actual: [2 2 3 2 4 6 3 8 7 9]\n",
            "Right Predictions\n"
          ],
          "name": "stdout"
        },
        {
          "output_type": "display_data",
          "data": {
            "image/png": "[encoded data removed]",
            "text/plain": [
              "<matplotlib.figure.Figure at 0x7facf09c8cf8>"
            ]
          },
          "metadata": {
            "tags": []
          }
        },
        {
          "output_type": "stream",
          "text": [
            "predict: [6 0 7 4 8 0 5 8 8 7]\n",
            "actual: [6 0 7 4 8 0 5 8 8 7]\n"
          ],
          "name": "stdout"
        }
      ]
    },
    {
      "metadata": {
        "id": "UW1d3T2DYMay",
        "colab_type": "text"
      },
      "cell_type": "markdown",
      "source": [
        "# Random Forrest"
      ]
    },
    {
      "metadata": {
        "id": "kjWx5PX-wnL7",
        "colab_type": "code",
        "outputId": "8fa6f215-f740-41ed-c52f-b849d14a71f7",
        "colab": {
          "base_uri": "https://localhost:8080/",
          "height": 369
        }
      },
      "cell_type": "code",
      "source": [
        "import numpy as np\n",
        "import matplotlib.pyplot as plt\n",
        "from matplotlib.colors import ListedColormap\n",
        "from sklearn.ensemble import RandomForestClassifier\n",
        "\n",
        "[features_train, features_test, classes_train, classes_test]= model_selection.train_test_split(digits.data, digits.target, test_size=0.20)\n",
        "model = RandomForestClassifier(n_estimators=1000)\n",
        "\n",
        "clf = model.fit(features_train, classes_train)\n",
        "\n",
        "score_train = model.score(features_train, classes_train)\n",
        "score_test = model.score(features_test, classes_test)\n",
        "\n",
        "print(\"score_train:\", score_train)\n",
        "print(\"score_test:\", score_test)\n",
        "\n",
        "res=model.predict(features_test)\n",
        "\n",
        "#Algarismos mal classificados\n",
        "\n",
        "err_features=features_test[res!=classes_test,:][:2]\n",
        "\n",
        "plt.figure(figsize=(20,4))\n",
        "for i, feat in enumerate(err_features[0:10]):\n",
        "  plt.subplot(1,10,i+1)\n",
        "  plt.imshow(feat.reshape(8,8), cmap=plt.cm.gray)\n",
        "plt.show()\n",
        "\n",
        "print(\"predict:\",res[res!=classes_test][0:10])\n",
        "print(\"actual:\",classes_test[res!=classes_test][0:10])\n",
        "\n",
        "#Algarismos bem classificados\n",
        "\n",
        "ok_features=features_test[res==classes_test,:][:2]\n",
        "\n",
        "plt.figure(figsize=(20,4))\n",
        "for i, feat in enumerate(ok_features[0:10]):\n",
        "  plt.subplot(1,10,i+1)\n",
        "  plt.imshow(feat.reshape(8,8), cmap=plt.cm.gray)\n",
        "plt.show()\n",
        "\n",
        "print(\"predict:\",res[res==classes_test][0:10])\n",
        "print(\"actual:\",classes_test[res==classes_test][0:10])"
      ],
      "execution_count": 0,
      "outputs": [
        {
          "output_type": "stream",
          "text": [
            "score_train: 1.0\n",
            "score_test: 0.9833333333333333\n"
          ],
          "name": "stdout"
        },
        {
          "output_type": "display_data",
          "data": {
            "image/png": "[encoded data removed]",
            "text/plain": [
              "<matplotlib.figure.Figure at 0x7facf59a9080>"
            ]
          },
          "metadata": {
            "tags": []
          }
        },
        {
          "output_type": "stream",
          "text": [
            "predict: [4 1 1 9 7 7]\n",
            "actual: [0 8 8 4 9 4]\n"
          ],
          "name": "stdout"
        },
        {
          "output_type": "display_data",
          "data": {
            "image/png": "[encoded data removed]",
            "text/plain": [
              "<matplotlib.figure.Figure at 0x7facf5a7ad68>"
            ]
          },
          "metadata": {
            "tags": []
          }
        },
        {
          "output_type": "stream",
          "text": [
            "predict: [7 4 7 0 3 7 0 6 8 1]\n",
            "actual: [7 4 7 0 3 7 0 6 8 1]\n"
          ],
          "name": "stdout"
        }
      ]
    },
    {
      "metadata": {
        "id": "UNYNL1FPad76",
        "colab_type": "text"
      },
      "cell_type": "markdown",
      "source": [
        "# Naive Bayes"
      ]
    },
    {
      "metadata": {
        "id": "HFCG0U8eaoDa",
        "colab_type": "code",
        "outputId": "ab0f8adf-dd6b-4039-dedc-5a13775eaa73",
        "colab": {
          "base_uri": "https://localhost:8080/",
          "height": 369
        }
      },
      "cell_type": "code",
      "source": [
        "from sklearn import datasets, tree, model_selection\n",
        "from sklearn.naive_bayes import GaussianNB\n",
        "gnb = GaussianNB()\n",
        "\n",
        "[features_train, features_test, classes_train, classes_test] = model_selection.train_test_split(digits.data, digits.target, test_size=0.20)\n",
        "y_pred = gnb.fit(features_train, classes_train)\n",
        "\n",
        "score_train = gnb.score(features_train, classes_train)\n",
        "score_test = gnb.score(features_test, classes_test)\n",
        "\n",
        "print(\"score_train:\", score_train)\n",
        "print(\"score_test:\", score_test)\n",
        "\n",
        "res=model.predict(features_test)\n",
        "\n",
        "#Algarismos mal classificados\n",
        "\n",
        "err_features=features_test[res!=classes_test,:][:2]\n",
        "\n",
        "plt.figure(figsize=(20,4))\n",
        "for i, feat in enumerate(err_features[0:10]):\n",
        "  plt.subplot(1,10,i+1)\n",
        "  plt.imshow(feat.reshape(8,8), cmap=plt.cm.gray)\n",
        "plt.show()\n",
        "\n",
        "print(\"predict:\",res[res!=classes_test][0:10])\n",
        "print(\"actual:\",classes_test[res!=classes_test][0:10])\n",
        "\n",
        "#Algarismos bem classificados\n",
        "\n",
        "ok_features=features_test[res==classes_test,:][:2]\n",
        "\n",
        "plt.figure(figsize=(20,4))\n",
        "for i, feat in enumerate(ok_features[0:10]):\n",
        "  plt.subplot(1,10,i+1)\n",
        "  plt.imshow(feat.reshape(8,8), cmap=plt.cm.gray)\n",
        "plt.show()\n",
        "\n",
        "print(\"predict:\",res[res==classes_test][0:10])\n",
        "print(\"actual:\",classes_test[res==classes_test][0:10])\n",
        "\n"
      ],
      "execution_count": 0,
      "outputs": [
        {
          "output_type": "stream",
          "text": [
            "score_train: 0.8469032707028532\n",
            "score_test: 0.7888888888888889\n"
          ],
          "name": "stdout"
        },
        {
          "output_type": "display_data",
          "data": {
            "image/png": "[encoded data removed]",
            "text/plain": [
              "<matplotlib.figure.Figure at 0x7facf0a71fd0>"
            ]
          },
          "metadata": {
            "tags": []
          }
        },
        {
          "output_type": "stream",
          "text": [
            "predict: [1]\n",
            "actual: [8]\n"
          ],
          "name": "stdout"
        },
        {
          "output_type": "display_data",
          "data": {
            "image/png": "[encoded data removed]",
            "text/plain": [
              "<matplotlib.figure.Figure at 0x7facf0a3db38>"
            ]
          },
          "metadata": {
            "tags": []
          }
        },
        {
          "output_type": "stream",
          "text": [
            "predict: [2 3 6 3 4 7 5 9 8 4]\n",
            "actual: [2 3 6 3 4 7 5 9 8 4]\n"
          ],
          "name": "stdout"
        }
      ]
    },
    {
      "metadata": {
        "id": "SFwsvVbXcj4g",
        "colab_type": "text"
      },
      "cell_type": "markdown",
      "source": [
        "# Erro obtido em cada método"
      ]
    },
    {
      "metadata": {
        "id": "FY1CBMtcckj_",
        "colab_type": "code",
        "outputId": "a666e871-e1a2-4eb7-9c1a-2d10fc750c8e",
        "colab": {
          "base_uri": "https://localhost:8080/",
          "height": 68
        }
      },
      "cell_type": "code",
      "source": [
        "from sklearn.model_selection import train_test_split\n",
        "from sklearn.metrics import accuracy_score\n",
        "\n",
        "x_train, x_test, y_train, y_test = train_test_split(digits.data, digits.target, test_size=0.20, random_state=5)\n",
        "\n",
        "tree= DecisionTreeClassifier()\n",
        "tree.fit(x_train, y_train)\n",
        "print(\"error_decision_tree\", 100-tree.score(x_test,y_test)*100)\n",
        "\n",
        "forest= RandomForestClassifier(n_estimators=15, random_state=5)\n",
        "forest.fit(x_train, y_train)\n",
        "print(\"error_random_forrest\", 100-forest.score(x_test,y_test)*100)\n",
        "\n",
        "GauNB = GaussianNB()\n",
        "GauNB.fit(x_train,y_train)\n",
        "expect=y_test\n",
        "prev=GauNB.predict(x_test)\n",
        "res=accuracy_score(expect, prev)\n",
        "print(\"error_naive_bayes\", 100-res*100)\n",
        "\n"
      ],
      "execution_count": 0,
      "outputs": [
        {
          "output_type": "stream",
          "text": [
            "error_decision_tree 14.444444444444443\n",
            "error_random_forrest 5.0\n",
            "error_naive_bayes 15.277777777777786\n"
          ],
          "name": "stdout"
        }
      ]
    },
    {
      "metadata": {
        "id": "vul4sCWxfiFy",
        "colab_type": "text"
      },
      "cell_type": "markdown",
      "source": [
        "# Conclusão"
      ]
    },
    {
      "metadata": {
        "id": "JyJUs7zdflTu",
        "colab_type": "text"
      },
      "cell_type": "markdown",
      "source": [
        "No final da aplicação dos métodos e visualização dos respectivos scores de teste e treino podemos concluir que o método Random Forrest é o método com o score de teste mais alto e com erro obtido mais baixo, deste modo é o método mais preciso dos três métodos estudados.\n",
        "Conclui-se também que os scores de treino dos três métodos são <1, logo não ocorreu overfit fazendo os métodos bem ajustados aos dados.\n"
      ]
    }
  ]
}