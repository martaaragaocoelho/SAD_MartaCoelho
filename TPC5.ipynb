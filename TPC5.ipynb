{
  "nbformat": 4,
  "nbformat_minor": 0,
  "metadata": {
    "colab": {
      "name": "TPC5.ipynb",
      "version": "0.3.2",
      "provenance": [],
      "collapsed_sections": []
    },
    "kernelspec": {
      "name": "python3",
      "display_name": "Python 3"
    }
  },
  "cells": [
    {
      "metadata": {
        "id": "6AulfNVysOu8",
        "colab_type": "text"
      },
      "cell_type": "markdown",
      "source": [
        "#Dataset Black Friday\n",
        "#TPC 5\n",
        "\n",
        "Grupo:\n",
        "\n",
        "*   Daniel Gonçalo\n",
        "*   Guilherme Escarduça\n",
        "*   Marta Coelho\n",
        "*   Sara Vista\n"
      ]
    },
    {
      "metadata": {
        "id": "NWa-bSc7svi1",
        "colab_type": "code",
        "colab": {}
      },
      "cell_type": "code",
      "source": [
        "#imports\n",
        "FILENAME=\"BlackFriday.csv\"\n",
        "import pandas as pd\n",
        "from google.colab import files\n",
        "import io\n",
        "import numpy as np\n",
        "import seaborn as sns\n",
        "import matplotlib as mlp\n",
        "import matplotlib.pyplot as plt"
      ],
      "execution_count": 0,
      "outputs": []
    },
    {
      "metadata": {
        "id": "e53ekykNtKHN",
        "colab_type": "code",
        "outputId": "c4a0c018-f473-432d-98a1-4f44726e59cc",
        "colab": {
          "resources": {
            "http://localhost:8080/nbextensions/google.colab/files.js": {
              "data": "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",
              "ok": true,
              "headers": [
                [
                  "content-type",
                  "application/javascript"
                ]
              ],
              "status": 200,
              "status_text": ""
            }
          },
          "base_uri": "https://localhost:8080/",
          "height": 72
        }
      },
      "cell_type": "code",
      "source": [
        "uploaded = files.upload()"
      ],
      "execution_count": 2,
      "outputs": [
        {
          "output_type": "display_data",
          "data": {
            "text/html": [
              "\n",
              "     <input type=\"file\" id=\"files-406ffdec-1ff1-4e82-9eb3-fa49c0eed574\" name=\"files[]\" multiple disabled />\n",
              "     <output id=\"result-406ffdec-1ff1-4e82-9eb3-fa49c0eed574\">\n",
              "      Upload widget is only available when the cell has been executed in the\n",
              "      current browser session. Please rerun this cell to enable.\n",
              "      </output>\n",
              "      <script src=\"/nbextensions/google.colab/files.js\"></script> "
            ],
            "text/plain": [
              "<IPython.core.display.HTML object>"
            ]
          },
          "metadata": {
            "tags": []
          }
        },
        {
          "output_type": "stream",
          "text": [
            "Saving BlackFriday.csv to BlackFriday.csv\n"
          ],
          "name": "stdout"
        }
      ]
    },
    {
      "metadata": {
        "id": "oice_JcPujUr",
        "colab_type": "code",
        "outputId": "4a627ac0-e8ac-4ea8-d0fe-045987f98590",
        "colab": {
          "base_uri": "https://localhost:8080/",
          "height": 2992
        }
      },
      "cell_type": "code",
      "source": [
        "if not FILENAME in uploaded:\n",
        "  print('o ficheiro {0} nao foi encontrado'.format(FILENAME))\n",
        "  exit()\n",
        "  \n",
        "rawdata=uploaded['BlackFriday.csv'].decode('utf-8')\n",
        "  \n",
        "df=pd.read_csv(io.StringIO(rawdata))\n",
        "df\n",
        "  \n",
        " \n",
        "  \n",
        "  "
      ],
      "execution_count": 3,
      "outputs": [
        {
          "output_type": "execute_result",
          "data": {
            "text/html": [
              "<div>\n",
              "<style scoped>\n",
              "    .dataframe tbody tr th:only-of-type {\n",
              "        vertical-align: middle;\n",
              "    }\n",
              "\n",
              "    .dataframe tbody tr th {\n",
              "        vertical-align: top;\n",
              "    }\n",
              "\n",
              "    .dataframe thead th {\n",
              "        text-align: right;\n",
              "    }\n",
              "</style>\n",
              "<table border=\"1\" class=\"dataframe\">\n",
              "  <thead>\n",
              "    <tr style=\"text-align: right;\">\n",
              "      <th></th>\n",
              "      <th>User_ID</th>\n",
              "      <th>Product_ID</th>\n",
              "      <th>Gender</th>\n",
              "      <th>Age</th>\n",
              "      <th>Occupation</th>\n",
              "      <th>City_Category</th>\n",
              "      <th>Stay_In_Current_City_Years</th>\n",
              "      <th>Marital_Status</th>\n",
              "      <th>Product_Category_1</th>\n",
              "      <th>Product_Category_2</th>\n",
              "      <th>Product_Category_3</th>\n",
              "      <th>Purchase</th>\n",
              "    </tr>\n",
              "  </thead>\n",
              "  <tbody>\n",
              "    <tr>\n",
              "      <th>0</th>\n",
              "      <td>1000001</td>\n",
              "      <td>P00069042</td>\n",
              "      <td>F</td>\n",
              "      <td>0-17</td>\n",
              "      <td>10</td>\n",
              "      <td>A</td>\n",
              "      <td>2</td>\n",
              "      <td>0</td>\n",
              "      <td>3</td>\n",
              "      <td>NaN</td>\n",
              "      <td>NaN</td>\n",
              "      <td>8370</td>\n",
              "    </tr>\n",
              "    <tr>\n",
              "      <th>1</th>\n",
              "      <td>1000001</td>\n",
              "      <td>P00248942</td>\n",
              "      <td>F</td>\n",
              "      <td>0-17</td>\n",
              "      <td>10</td>\n",
              "      <td>A</td>\n",
              "      <td>2</td>\n",
              "      <td>0</td>\n",
              "      <td>1</td>\n",
              "      <td>6.0</td>\n",
              "      <td>14.0</td>\n",
              "      <td>15200</td>\n",
              "    </tr>\n",
              "    <tr>\n",
              "      <th>2</th>\n",
              "      <td>1000001</td>\n",
              "      <td>P00087842</td>\n",
              "      <td>F</td>\n",
              "      <td>0-17</td>\n",
              "      <td>10</td>\n",
              "      <td>A</td>\n",
              "      <td>2</td>\n",
              "      <td>0</td>\n",
              "      <td>12</td>\n",
              "      <td>NaN</td>\n",
              "      <td>NaN</td>\n",
              "      <td>1422</td>\n",
              "    </tr>\n",
              "    <tr>\n",
              "      <th>3</th>\n",
              "      <td>1000001</td>\n",
              "      <td>P00085442</td>\n",
              "      <td>F</td>\n",
              "      <td>0-17</td>\n",
              "      <td>10</td>\n",
              "      <td>A</td>\n",
              "      <td>2</td>\n",
              "      <td>0</td>\n",
              "      <td>12</td>\n",
              "      <td>14.0</td>\n",
              "      <td>NaN</td>\n",
              "      <td>1057</td>\n",
              "    </tr>\n",
              "    <tr>\n",
              "      <th>4</th>\n",
              "      <td>1000002</td>\n",
              "      <td>P00285442</td>\n",
              "      <td>M</td>\n",
              "      <td>55+</td>\n",
              "      <td>16</td>\n",
              "      <td>C</td>\n",
              "      <td>4+</td>\n",
              "      <td>0</td>\n",
              "      <td>8</td>\n",
              "      <td>NaN</td>\n",
              "      <td>NaN</td>\n",
              "      <td>7969</td>\n",
              "    </tr>\n",
              "    <tr>\n",
              "      <th>5</th>\n",
              "      <td>1000003</td>\n",
              "      <td>P00193542</td>\n",
              "      <td>M</td>\n",
              "      <td>26-35</td>\n",
              "      <td>15</td>\n",
              "      <td>A</td>\n",
              "      <td>3</td>\n",
              "      <td>0</td>\n",
              "      <td>1</td>\n",
              "      <td>2.0</td>\n",
              "      <td>NaN</td>\n",
              "      <td>15227</td>\n",
              "    </tr>\n",
              "    <tr>\n",
              "      <th>6</th>\n",
              "      <td>1000004</td>\n",
              "      <td>P00184942</td>\n",
              "      <td>M</td>\n",
              "      <td>46-50</td>\n",
              "      <td>7</td>\n",
              "      <td>B</td>\n",
              "      <td>2</td>\n",
              "      <td>1</td>\n",
              "      <td>1</td>\n",
              "      <td>8.0</td>\n",
              "      <td>17.0</td>\n",
              "      <td>19215</td>\n",
              "    </tr>\n",
              "    <tr>\n",
              "      <th>7</th>\n",
              "      <td>1000004</td>\n",
              "      <td>P00346142</td>\n",
              "      <td>M</td>\n",
              "      <td>46-50</td>\n",
              "      <td>7</td>\n",
              "      <td>B</td>\n",
              "      <td>2</td>\n",
              "      <td>1</td>\n",
              "      <td>1</td>\n",
              "      <td>15.0</td>\n",
              "      <td>NaN</td>\n",
              "      <td>15854</td>\n",
              "    </tr>\n",
              "    <tr>\n",
              "      <th>8</th>\n",
              "      <td>1000004</td>\n",
              "      <td>P0097242</td>\n",
              "      <td>M</td>\n",
              "      <td>46-50</td>\n",
              "      <td>7</td>\n",
              "      <td>B</td>\n",
              "      <td>2</td>\n",
              "      <td>1</td>\n",
              "      <td>1</td>\n",
              "      <td>16.0</td>\n",
              "      <td>NaN</td>\n",
              "      <td>15686</td>\n",
              "    </tr>\n",
              "    <tr>\n",
              "      <th>9</th>\n",
              "      <td>1000005</td>\n",
              "      <td>P00274942</td>\n",
              "      <td>M</td>\n",
              "      <td>26-35</td>\n",
              "      <td>20</td>\n",
              "      <td>A</td>\n",
              "      <td>1</td>\n",
              "      <td>1</td>\n",
              "      <td>8</td>\n",
              "      <td>NaN</td>\n",
              "      <td>NaN</td>\n",
              "      <td>7871</td>\n",
              "    </tr>\n",
              "    <tr>\n",
              "      <th>10</th>\n",
              "      <td>1000005</td>\n",
              "      <td>P00251242</td>\n",
              "      <td>M</td>\n",
              "      <td>26-35</td>\n",
              "      <td>20</td>\n",
              "      <td>A</td>\n",
              "      <td>1</td>\n",
              "      <td>1</td>\n",
              "      <td>5</td>\n",
              "      <td>11.0</td>\n",
              "      <td>NaN</td>\n",
              "      <td>5254</td>\n",
              "    </tr>\n",
              "    <tr>\n",
              "      <th>11</th>\n",
              "      <td>1000005</td>\n",
              "      <td>P00014542</td>\n",
              "      <td>M</td>\n",
              "      <td>26-35</td>\n",
              "      <td>20</td>\n",
              "      <td>A</td>\n",
              "      <td>1</td>\n",
              "      <td>1</td>\n",
              "      <td>8</td>\n",
              "      <td>NaN</td>\n",
              "      <td>NaN</td>\n",
              "      <td>3957</td>\n",
              "    </tr>\n",
              "    <tr>\n",
              "      <th>12</th>\n",
              "      <td>1000005</td>\n",
              "      <td>P00031342</td>\n",
              "      <td>M</td>\n",
              "      <td>26-35</td>\n",
              "      <td>20</td>\n",
              "      <td>A</td>\n",
              "      <td>1</td>\n",
              "      <td>1</td>\n",
              "      <td>8</td>\n",
              "      <td>NaN</td>\n",
              "      <td>NaN</td>\n",
              "      <td>6073</td>\n",
              "    </tr>\n",
              "    <tr>\n",
              "      <th>13</th>\n",
              "      <td>1000005</td>\n",
              "      <td>P00145042</td>\n",
              "      <td>M</td>\n",
              "      <td>26-35</td>\n",
              "      <td>20</td>\n",
              "      <td>A</td>\n",
              "      <td>1</td>\n",
              "      <td>1</td>\n",
              "      <td>1</td>\n",
              "      <td>2.0</td>\n",
              "      <td>5.0</td>\n",
              "      <td>15665</td>\n",
              "    </tr>\n",
              "    <tr>\n",
              "      <th>14</th>\n",
              "      <td>1000006</td>\n",
              "      <td>P00231342</td>\n",
              "      <td>F</td>\n",
              "      <td>51-55</td>\n",
              "      <td>9</td>\n",
              "      <td>A</td>\n",
              "      <td>1</td>\n",
              "      <td>0</td>\n",
              "      <td>5</td>\n",
              "      <td>8.0</td>\n",
              "      <td>14.0</td>\n",
              "      <td>5378</td>\n",
              "    </tr>\n",
              "    <tr>\n",
              "      <th>15</th>\n",
              "      <td>1000006</td>\n",
              "      <td>P00190242</td>\n",
              "      <td>F</td>\n",
              "      <td>51-55</td>\n",
              "      <td>9</td>\n",
              "      <td>A</td>\n",
              "      <td>1</td>\n",
              "      <td>0</td>\n",
              "      <td>4</td>\n",
              "      <td>5.0</td>\n",
              "      <td>NaN</td>\n",
              "      <td>2079</td>\n",
              "    </tr>\n",
              "    <tr>\n",
              "      <th>16</th>\n",
              "      <td>1000006</td>\n",
              "      <td>P0096642</td>\n",
              "      <td>F</td>\n",
              "      <td>51-55</td>\n",
              "      <td>9</td>\n",
              "      <td>A</td>\n",
              "      <td>1</td>\n",
              "      <td>0</td>\n",
              "      <td>2</td>\n",
              "      <td>3.0</td>\n",
              "      <td>4.0</td>\n",
              "      <td>13055</td>\n",
              "    </tr>\n",
              "    <tr>\n",
              "      <th>17</th>\n",
              "      <td>1000006</td>\n",
              "      <td>P00058442</td>\n",
              "      <td>F</td>\n",
              "      <td>51-55</td>\n",
              "      <td>9</td>\n",
              "      <td>A</td>\n",
              "      <td>1</td>\n",
              "      <td>0</td>\n",
              "      <td>5</td>\n",
              "      <td>14.0</td>\n",
              "      <td>NaN</td>\n",
              "      <td>8851</td>\n",
              "    </tr>\n",
              "    <tr>\n",
              "      <th>18</th>\n",
              "      <td>1000007</td>\n",
              "      <td>P00036842</td>\n",
              "      <td>M</td>\n",
              "      <td>36-45</td>\n",
              "      <td>1</td>\n",
              "      <td>B</td>\n",
              "      <td>1</td>\n",
              "      <td>1</td>\n",
              "      <td>1</td>\n",
              "      <td>14.0</td>\n",
              "      <td>16.0</td>\n",
              "      <td>11788</td>\n",
              "    </tr>\n",
              "    <tr>\n",
              "      <th>19</th>\n",
              "      <td>1000008</td>\n",
              "      <td>P00249542</td>\n",
              "      <td>M</td>\n",
              "      <td>26-35</td>\n",
              "      <td>12</td>\n",
              "      <td>C</td>\n",
              "      <td>4+</td>\n",
              "      <td>1</td>\n",
              "      <td>1</td>\n",
              "      <td>5.0</td>\n",
              "      <td>15.0</td>\n",
              "      <td>19614</td>\n",
              "    </tr>\n",
              "    <tr>\n",
              "      <th>20</th>\n",
              "      <td>1000008</td>\n",
              "      <td>P00220442</td>\n",
              "      <td>M</td>\n",
              "      <td>26-35</td>\n",
              "      <td>12</td>\n",
              "      <td>C</td>\n",
              "      <td>4+</td>\n",
              "      <td>1</td>\n",
              "      <td>5</td>\n",
              "      <td>14.0</td>\n",
              "      <td>NaN</td>\n",
              "      <td>8584</td>\n",
              "    </tr>\n",
              "    <tr>\n",
              "      <th>21</th>\n",
              "      <td>1000008</td>\n",
              "      <td>P00156442</td>\n",
              "      <td>M</td>\n",
              "      <td>26-35</td>\n",
              "      <td>12</td>\n",
              "      <td>C</td>\n",
              "      <td>4+</td>\n",
              "      <td>1</td>\n",
              "      <td>8</td>\n",
              "      <td>NaN</td>\n",
              "      <td>NaN</td>\n",
              "      <td>9872</td>\n",
              "    </tr>\n",
              "    <tr>\n",
              "      <th>22</th>\n",
              "      <td>1000008</td>\n",
              "      <td>P00213742</td>\n",
              "      <td>M</td>\n",
              "      <td>26-35</td>\n",
              "      <td>12</td>\n",
              "      <td>C</td>\n",
              "      <td>4+</td>\n",
              "      <td>1</td>\n",
              "      <td>8</td>\n",
              "      <td>NaN</td>\n",
              "      <td>NaN</td>\n",
              "      <td>9743</td>\n",
              "    </tr>\n",
              "    <tr>\n",
              "      <th>23</th>\n",
              "      <td>1000008</td>\n",
              "      <td>P00214442</td>\n",
              "      <td>M</td>\n",
              "      <td>26-35</td>\n",
              "      <td>12</td>\n",
              "      <td>C</td>\n",
              "      <td>4+</td>\n",
              "      <td>1</td>\n",
              "      <td>8</td>\n",
              "      <td>NaN</td>\n",
              "      <td>NaN</td>\n",
              "      <td>5982</td>\n",
              "    </tr>\n",
              "    <tr>\n",
              "      <th>24</th>\n",
              "      <td>1000008</td>\n",
              "      <td>P00303442</td>\n",
              "      <td>M</td>\n",
              "      <td>26-35</td>\n",
              "      <td>12</td>\n",
              "      <td>C</td>\n",
              "      <td>4+</td>\n",
              "      <td>1</td>\n",
              "      <td>1</td>\n",
              "      <td>8.0</td>\n",
              "      <td>14.0</td>\n",
              "      <td>11927</td>\n",
              "    </tr>\n",
              "    <tr>\n",
              "      <th>25</th>\n",
              "      <td>1000009</td>\n",
              "      <td>P00135742</td>\n",
              "      <td>M</td>\n",
              "      <td>26-35</td>\n",
              "      <td>17</td>\n",
              "      <td>C</td>\n",
              "      <td>0</td>\n",
              "      <td>0</td>\n",
              "      <td>6</td>\n",
              "      <td>8.0</td>\n",
              "      <td>NaN</td>\n",
              "      <td>16662</td>\n",
              "    </tr>\n",
              "    <tr>\n",
              "      <th>26</th>\n",
              "      <td>1000009</td>\n",
              "      <td>P00039942</td>\n",
              "      <td>M</td>\n",
              "      <td>26-35</td>\n",
              "      <td>17</td>\n",
              "      <td>C</td>\n",
              "      <td>0</td>\n",
              "      <td>0</td>\n",
              "      <td>8</td>\n",
              "      <td>NaN</td>\n",
              "      <td>NaN</td>\n",
              "      <td>5887</td>\n",
              "    </tr>\n",
              "    <tr>\n",
              "      <th>27</th>\n",
              "      <td>1000009</td>\n",
              "      <td>P00161442</td>\n",
              "      <td>M</td>\n",
              "      <td>26-35</td>\n",
              "      <td>17</td>\n",
              "      <td>C</td>\n",
              "      <td>0</td>\n",
              "      <td>0</td>\n",
              "      <td>5</td>\n",
              "      <td>14.0</td>\n",
              "      <td>NaN</td>\n",
              "      <td>6973</td>\n",
              "    </tr>\n",
              "    <tr>\n",
              "      <th>28</th>\n",
              "      <td>1000009</td>\n",
              "      <td>P00078742</td>\n",
              "      <td>M</td>\n",
              "      <td>26-35</td>\n",
              "      <td>17</td>\n",
              "      <td>C</td>\n",
              "      <td>0</td>\n",
              "      <td>0</td>\n",
              "      <td>5</td>\n",
              "      <td>8.0</td>\n",
              "      <td>14.0</td>\n",
              "      <td>5391</td>\n",
              "    </tr>\n",
              "    <tr>\n",
              "      <th>29</th>\n",
              "      <td>1000010</td>\n",
              "      <td>P00085942</td>\n",
              "      <td>F</td>\n",
              "      <td>36-45</td>\n",
              "      <td>1</td>\n",
              "      <td>B</td>\n",
              "      <td>4+</td>\n",
              "      <td>1</td>\n",
              "      <td>2</td>\n",
              "      <td>4.0</td>\n",
              "      <td>8.0</td>\n",
              "      <td>16352</td>\n",
              "    </tr>\n",
              "    <tr>\n",
              "      <th>...</th>\n",
              "      <td>...</td>\n",
              "      <td>...</td>\n",
              "      <td>...</td>\n",
              "      <td>...</td>\n",
              "      <td>...</td>\n",
              "      <td>...</td>\n",
              "      <td>...</td>\n",
              "      <td>...</td>\n",
              "      <td>...</td>\n",
              "      <td>...</td>\n",
              "      <td>...</td>\n",
              "      <td>...</td>\n",
              "    </tr>\n",
              "    <tr>\n",
              "      <th>537547</th>\n",
              "      <td>1004733</td>\n",
              "      <td>P00244042</td>\n",
              "      <td>M</td>\n",
              "      <td>18-25</td>\n",
              "      <td>18</td>\n",
              "      <td>C</td>\n",
              "      <td>1</td>\n",
              "      <td>0</td>\n",
              "      <td>1</td>\n",
              "      <td>2.0</td>\n",
              "      <td>15.0</td>\n",
              "      <td>11543</td>\n",
              "    </tr>\n",
              "    <tr>\n",
              "      <th>537548</th>\n",
              "      <td>1004734</td>\n",
              "      <td>P00111042</td>\n",
              "      <td>M</td>\n",
              "      <td>51-55</td>\n",
              "      <td>1</td>\n",
              "      <td>B</td>\n",
              "      <td>1</td>\n",
              "      <td>1</td>\n",
              "      <td>15</td>\n",
              "      <td>NaN</td>\n",
              "      <td>NaN</td>\n",
              "      <td>20924</td>\n",
              "    </tr>\n",
              "    <tr>\n",
              "      <th>537549</th>\n",
              "      <td>1004734</td>\n",
              "      <td>P00345842</td>\n",
              "      <td>M</td>\n",
              "      <td>51-55</td>\n",
              "      <td>1</td>\n",
              "      <td>B</td>\n",
              "      <td>1</td>\n",
              "      <td>1</td>\n",
              "      <td>2</td>\n",
              "      <td>8.0</td>\n",
              "      <td>14.0</td>\n",
              "      <td>13082</td>\n",
              "    </tr>\n",
              "    <tr>\n",
              "      <th>537550</th>\n",
              "      <td>1004735</td>\n",
              "      <td>P00278242</td>\n",
              "      <td>M</td>\n",
              "      <td>46-50</td>\n",
              "      <td>3</td>\n",
              "      <td>C</td>\n",
              "      <td>3</td>\n",
              "      <td>0</td>\n",
              "      <td>1</td>\n",
              "      <td>NaN</td>\n",
              "      <td>NaN</td>\n",
              "      <td>11658</td>\n",
              "    </tr>\n",
              "    <tr>\n",
              "      <th>537551</th>\n",
              "      <td>1004735</td>\n",
              "      <td>P00313442</td>\n",
              "      <td>M</td>\n",
              "      <td>46-50</td>\n",
              "      <td>3</td>\n",
              "      <td>C</td>\n",
              "      <td>3</td>\n",
              "      <td>0</td>\n",
              "      <td>5</td>\n",
              "      <td>6.0</td>\n",
              "      <td>8.0</td>\n",
              "      <td>6863</td>\n",
              "    </tr>\n",
              "    <tr>\n",
              "      <th>537552</th>\n",
              "      <td>1004735</td>\n",
              "      <td>P0098642</td>\n",
              "      <td>M</td>\n",
              "      <td>46-50</td>\n",
              "      <td>3</td>\n",
              "      <td>C</td>\n",
              "      <td>3</td>\n",
              "      <td>0</td>\n",
              "      <td>6</td>\n",
              "      <td>8.0</td>\n",
              "      <td>NaN</td>\n",
              "      <td>16415</td>\n",
              "    </tr>\n",
              "    <tr>\n",
              "      <th>537553</th>\n",
              "      <td>1004735</td>\n",
              "      <td>P00119342</td>\n",
              "      <td>M</td>\n",
              "      <td>46-50</td>\n",
              "      <td>3</td>\n",
              "      <td>C</td>\n",
              "      <td>3</td>\n",
              "      <td>0</td>\n",
              "      <td>10</td>\n",
              "      <td>13.0</td>\n",
              "      <td>NaN</td>\n",
              "      <td>18526</td>\n",
              "    </tr>\n",
              "    <tr>\n",
              "      <th>537554</th>\n",
              "      <td>1004735</td>\n",
              "      <td>P00114042</td>\n",
              "      <td>M</td>\n",
              "      <td>46-50</td>\n",
              "      <td>3</td>\n",
              "      <td>C</td>\n",
              "      <td>3</td>\n",
              "      <td>0</td>\n",
              "      <td>5</td>\n",
              "      <td>14.0</td>\n",
              "      <td>NaN</td>\n",
              "      <td>7099</td>\n",
              "    </tr>\n",
              "    <tr>\n",
              "      <th>537555</th>\n",
              "      <td>1004735</td>\n",
              "      <td>P00135142</td>\n",
              "      <td>M</td>\n",
              "      <td>46-50</td>\n",
              "      <td>3</td>\n",
              "      <td>C</td>\n",
              "      <td>3</td>\n",
              "      <td>0</td>\n",
              "      <td>13</td>\n",
              "      <td>16.0</td>\n",
              "      <td>NaN</td>\n",
              "      <td>578</td>\n",
              "    </tr>\n",
              "    <tr>\n",
              "      <th>537556</th>\n",
              "      <td>1004736</td>\n",
              "      <td>P00194542</td>\n",
              "      <td>M</td>\n",
              "      <td>18-25</td>\n",
              "      <td>20</td>\n",
              "      <td>A</td>\n",
              "      <td>1</td>\n",
              "      <td>1</td>\n",
              "      <td>8</td>\n",
              "      <td>14.0</td>\n",
              "      <td>NaN</td>\n",
              "      <td>2183</td>\n",
              "    </tr>\n",
              "    <tr>\n",
              "      <th>537557</th>\n",
              "      <td>1004736</td>\n",
              "      <td>P00175242</td>\n",
              "      <td>M</td>\n",
              "      <td>18-25</td>\n",
              "      <td>20</td>\n",
              "      <td>A</td>\n",
              "      <td>1</td>\n",
              "      <td>1</td>\n",
              "      <td>2</td>\n",
              "      <td>NaN</td>\n",
              "      <td>NaN</td>\n",
              "      <td>12724</td>\n",
              "    </tr>\n",
              "    <tr>\n",
              "      <th>537558</th>\n",
              "      <td>1004736</td>\n",
              "      <td>P00101942</td>\n",
              "      <td>M</td>\n",
              "      <td>18-25</td>\n",
              "      <td>20</td>\n",
              "      <td>A</td>\n",
              "      <td>1</td>\n",
              "      <td>1</td>\n",
              "      <td>8</td>\n",
              "      <td>17.0</td>\n",
              "      <td>NaN</td>\n",
              "      <td>7796</td>\n",
              "    </tr>\n",
              "    <tr>\n",
              "      <th>537559</th>\n",
              "      <td>1004736</td>\n",
              "      <td>P00109142</td>\n",
              "      <td>M</td>\n",
              "      <td>18-25</td>\n",
              "      <td>20</td>\n",
              "      <td>A</td>\n",
              "      <td>1</td>\n",
              "      <td>1</td>\n",
              "      <td>8</td>\n",
              "      <td>17.0</td>\n",
              "      <td>NaN</td>\n",
              "      <td>7770</td>\n",
              "    </tr>\n",
              "    <tr>\n",
              "      <th>537560</th>\n",
              "      <td>1004736</td>\n",
              "      <td>P00084842</td>\n",
              "      <td>M</td>\n",
              "      <td>18-25</td>\n",
              "      <td>20</td>\n",
              "      <td>A</td>\n",
              "      <td>1</td>\n",
              "      <td>1</td>\n",
              "      <td>8</td>\n",
              "      <td>16.0</td>\n",
              "      <td>NaN</td>\n",
              "      <td>5940</td>\n",
              "    </tr>\n",
              "    <tr>\n",
              "      <th>537561</th>\n",
              "      <td>1004736</td>\n",
              "      <td>P00078142</td>\n",
              "      <td>M</td>\n",
              "      <td>18-25</td>\n",
              "      <td>20</td>\n",
              "      <td>A</td>\n",
              "      <td>1</td>\n",
              "      <td>1</td>\n",
              "      <td>8</td>\n",
              "      <td>16.0</td>\n",
              "      <td>NaN</td>\n",
              "      <td>7834</td>\n",
              "    </tr>\n",
              "    <tr>\n",
              "      <th>537562</th>\n",
              "      <td>1004736</td>\n",
              "      <td>P00146742</td>\n",
              "      <td>M</td>\n",
              "      <td>18-25</td>\n",
              "      <td>20</td>\n",
              "      <td>A</td>\n",
              "      <td>1</td>\n",
              "      <td>1</td>\n",
              "      <td>1</td>\n",
              "      <td>13.0</td>\n",
              "      <td>14.0</td>\n",
              "      <td>11508</td>\n",
              "    </tr>\n",
              "    <tr>\n",
              "      <th>537563</th>\n",
              "      <td>1004736</td>\n",
              "      <td>P00154642</td>\n",
              "      <td>M</td>\n",
              "      <td>18-25</td>\n",
              "      <td>20</td>\n",
              "      <td>A</td>\n",
              "      <td>1</td>\n",
              "      <td>1</td>\n",
              "      <td>8</td>\n",
              "      <td>NaN</td>\n",
              "      <td>NaN</td>\n",
              "      <td>6074</td>\n",
              "    </tr>\n",
              "    <tr>\n",
              "      <th>537564</th>\n",
              "      <td>1004736</td>\n",
              "      <td>P00117442</td>\n",
              "      <td>M</td>\n",
              "      <td>18-25</td>\n",
              "      <td>20</td>\n",
              "      <td>A</td>\n",
              "      <td>1</td>\n",
              "      <td>1</td>\n",
              "      <td>5</td>\n",
              "      <td>14.0</td>\n",
              "      <td>NaN</td>\n",
              "      <td>7084</td>\n",
              "    </tr>\n",
              "    <tr>\n",
              "      <th>537565</th>\n",
              "      <td>1004736</td>\n",
              "      <td>P00051142</td>\n",
              "      <td>M</td>\n",
              "      <td>18-25</td>\n",
              "      <td>20</td>\n",
              "      <td>A</td>\n",
              "      <td>1</td>\n",
              "      <td>1</td>\n",
              "      <td>8</td>\n",
              "      <td>NaN</td>\n",
              "      <td>NaN</td>\n",
              "      <td>7934</td>\n",
              "    </tr>\n",
              "    <tr>\n",
              "      <th>537566</th>\n",
              "      <td>1004736</td>\n",
              "      <td>P00048742</td>\n",
              "      <td>M</td>\n",
              "      <td>18-25</td>\n",
              "      <td>20</td>\n",
              "      <td>A</td>\n",
              "      <td>1</td>\n",
              "      <td>1</td>\n",
              "      <td>5</td>\n",
              "      <td>NaN</td>\n",
              "      <td>NaN</td>\n",
              "      <td>5350</td>\n",
              "    </tr>\n",
              "    <tr>\n",
              "      <th>537567</th>\n",
              "      <td>1004736</td>\n",
              "      <td>P00157542</td>\n",
              "      <td>M</td>\n",
              "      <td>18-25</td>\n",
              "      <td>20</td>\n",
              "      <td>A</td>\n",
              "      <td>1</td>\n",
              "      <td>1</td>\n",
              "      <td>8</td>\n",
              "      <td>14.0</td>\n",
              "      <td>NaN</td>\n",
              "      <td>1994</td>\n",
              "    </tr>\n",
              "    <tr>\n",
              "      <th>537568</th>\n",
              "      <td>1004736</td>\n",
              "      <td>P00250642</td>\n",
              "      <td>M</td>\n",
              "      <td>18-25</td>\n",
              "      <td>20</td>\n",
              "      <td>A</td>\n",
              "      <td>1</td>\n",
              "      <td>1</td>\n",
              "      <td>11</td>\n",
              "      <td>NaN</td>\n",
              "      <td>NaN</td>\n",
              "      <td>5930</td>\n",
              "    </tr>\n",
              "    <tr>\n",
              "      <th>537569</th>\n",
              "      <td>1004736</td>\n",
              "      <td>P00023142</td>\n",
              "      <td>M</td>\n",
              "      <td>18-25</td>\n",
              "      <td>20</td>\n",
              "      <td>A</td>\n",
              "      <td>1</td>\n",
              "      <td>1</td>\n",
              "      <td>5</td>\n",
              "      <td>14.0</td>\n",
              "      <td>NaN</td>\n",
              "      <td>7042</td>\n",
              "    </tr>\n",
              "    <tr>\n",
              "      <th>537570</th>\n",
              "      <td>1004736</td>\n",
              "      <td>P00162442</td>\n",
              "      <td>M</td>\n",
              "      <td>18-25</td>\n",
              "      <td>20</td>\n",
              "      <td>A</td>\n",
              "      <td>1</td>\n",
              "      <td>1</td>\n",
              "      <td>1</td>\n",
              "      <td>16.0</td>\n",
              "      <td>NaN</td>\n",
              "      <td>15491</td>\n",
              "    </tr>\n",
              "    <tr>\n",
              "      <th>537571</th>\n",
              "      <td>1004737</td>\n",
              "      <td>P00221442</td>\n",
              "      <td>M</td>\n",
              "      <td>36-45</td>\n",
              "      <td>16</td>\n",
              "      <td>C</td>\n",
              "      <td>1</td>\n",
              "      <td>0</td>\n",
              "      <td>1</td>\n",
              "      <td>2.0</td>\n",
              "      <td>5.0</td>\n",
              "      <td>11852</td>\n",
              "    </tr>\n",
              "    <tr>\n",
              "      <th>537572</th>\n",
              "      <td>1004737</td>\n",
              "      <td>P00193542</td>\n",
              "      <td>M</td>\n",
              "      <td>36-45</td>\n",
              "      <td>16</td>\n",
              "      <td>C</td>\n",
              "      <td>1</td>\n",
              "      <td>0</td>\n",
              "      <td>1</td>\n",
              "      <td>2.0</td>\n",
              "      <td>NaN</td>\n",
              "      <td>11664</td>\n",
              "    </tr>\n",
              "    <tr>\n",
              "      <th>537573</th>\n",
              "      <td>1004737</td>\n",
              "      <td>P00111142</td>\n",
              "      <td>M</td>\n",
              "      <td>36-45</td>\n",
              "      <td>16</td>\n",
              "      <td>C</td>\n",
              "      <td>1</td>\n",
              "      <td>0</td>\n",
              "      <td>1</td>\n",
              "      <td>15.0</td>\n",
              "      <td>16.0</td>\n",
              "      <td>19196</td>\n",
              "    </tr>\n",
              "    <tr>\n",
              "      <th>537574</th>\n",
              "      <td>1004737</td>\n",
              "      <td>P00345942</td>\n",
              "      <td>M</td>\n",
              "      <td>36-45</td>\n",
              "      <td>16</td>\n",
              "      <td>C</td>\n",
              "      <td>1</td>\n",
              "      <td>0</td>\n",
              "      <td>8</td>\n",
              "      <td>15.0</td>\n",
              "      <td>NaN</td>\n",
              "      <td>8043</td>\n",
              "    </tr>\n",
              "    <tr>\n",
              "      <th>537575</th>\n",
              "      <td>1004737</td>\n",
              "      <td>P00285842</td>\n",
              "      <td>M</td>\n",
              "      <td>36-45</td>\n",
              "      <td>16</td>\n",
              "      <td>C</td>\n",
              "      <td>1</td>\n",
              "      <td>0</td>\n",
              "      <td>5</td>\n",
              "      <td>NaN</td>\n",
              "      <td>NaN</td>\n",
              "      <td>7172</td>\n",
              "    </tr>\n",
              "    <tr>\n",
              "      <th>537576</th>\n",
              "      <td>1004737</td>\n",
              "      <td>P00118242</td>\n",
              "      <td>M</td>\n",
              "      <td>36-45</td>\n",
              "      <td>16</td>\n",
              "      <td>C</td>\n",
              "      <td>1</td>\n",
              "      <td>0</td>\n",
              "      <td>5</td>\n",
              "      <td>8.0</td>\n",
              "      <td>NaN</td>\n",
              "      <td>6875</td>\n",
              "    </tr>\n",
              "  </tbody>\n",
              "</table>\n",
              "<p>537577 rows × 12 columns</p>\n",
              "</div>"
            ],
            "text/plain": [
              "        User_ID Product_ID Gender    Age  Occupation City_Category  \\\n",
              "0       1000001  P00069042      F   0-17          10             A   \n",
              "1       1000001  P00248942      F   0-17          10             A   \n",
              "2       1000001  P00087842      F   0-17          10             A   \n",
              "3       1000001  P00085442      F   0-17          10             A   \n",
              "4       1000002  P00285442      M    55+          16             C   \n",
              "5       1000003  P00193542      M  26-35          15             A   \n",
              "6       1000004  P00184942      M  46-50           7             B   \n",
              "7       1000004  P00346142      M  46-50           7             B   \n",
              "8       1000004   P0097242      M  46-50           7             B   \n",
              "9       1000005  P00274942      M  26-35          20             A   \n",
              "10      1000005  P00251242      M  26-35          20             A   \n",
              "11      1000005  P00014542      M  26-35          20             A   \n",
              "12      1000005  P00031342      M  26-35          20             A   \n",
              "13      1000005  P00145042      M  26-35          20             A   \n",
              "14      1000006  P00231342      F  51-55           9             A   \n",
              "15      1000006  P00190242      F  51-55           9             A   \n",
              "16      1000006   P0096642      F  51-55           9             A   \n",
              "17      1000006  P00058442      F  51-55           9             A   \n",
              "18      1000007  P00036842      M  36-45           1             B   \n",
              "19      1000008  P00249542      M  26-35          12             C   \n",
              "20      1000008  P00220442      M  26-35          12             C   \n",
              "21      1000008  P00156442      M  26-35          12             C   \n",
              "22      1000008  P00213742      M  26-35          12             C   \n",
              "23      1000008  P00214442      M  26-35          12             C   \n",
              "24      1000008  P00303442      M  26-35          12             C   \n",
              "25      1000009  P00135742      M  26-35          17             C   \n",
              "26      1000009  P00039942      M  26-35          17             C   \n",
              "27      1000009  P00161442      M  26-35          17             C   \n",
              "28      1000009  P00078742      M  26-35          17             C   \n",
              "29      1000010  P00085942      F  36-45           1             B   \n",
              "...         ...        ...    ...    ...         ...           ...   \n",
              "537547  1004733  P00244042      M  18-25          18             C   \n",
              "537548  1004734  P00111042      M  51-55           1             B   \n",
              "537549  1004734  P00345842      M  51-55           1             B   \n",
              "537550  1004735  P00278242      M  46-50           3             C   \n",
              "537551  1004735  P00313442      M  46-50           3             C   \n",
              "537552  1004735   P0098642      M  46-50           3             C   \n",
              "537553  1004735  P00119342      M  46-50           3             C   \n",
              "537554  1004735  P00114042      M  46-50           3             C   \n",
              "537555  1004735  P00135142      M  46-50           3             C   \n",
              "537556  1004736  P00194542      M  18-25          20             A   \n",
              "537557  1004736  P00175242      M  18-25          20             A   \n",
              "537558  1004736  P00101942      M  18-25          20             A   \n",
              "537559  1004736  P00109142      M  18-25          20             A   \n",
              "537560  1004736  P00084842      M  18-25          20             A   \n",
              "537561  1004736  P00078142      M  18-25          20             A   \n",
              "537562  1004736  P00146742      M  18-25          20             A   \n",
              "537563  1004736  P00154642      M  18-25          20             A   \n",
              "537564  1004736  P00117442      M  18-25          20             A   \n",
              "537565  1004736  P00051142      M  18-25          20             A   \n",
              "537566  1004736  P00048742      M  18-25          20             A   \n",
              "537567  1004736  P00157542      M  18-25          20             A   \n",
              "537568  1004736  P00250642      M  18-25          20             A   \n",
              "537569  1004736  P00023142      M  18-25          20             A   \n",
              "537570  1004736  P00162442      M  18-25          20             A   \n",
              "537571  1004737  P00221442      M  36-45          16             C   \n",
              "537572  1004737  P00193542      M  36-45          16             C   \n",
              "537573  1004737  P00111142      M  36-45          16             C   \n",
              "537574  1004737  P00345942      M  36-45          16             C   \n",
              "537575  1004737  P00285842      M  36-45          16             C   \n",
              "537576  1004737  P00118242      M  36-45          16             C   \n",
              "\n",
              "       Stay_In_Current_City_Years  Marital_Status  Product_Category_1  \\\n",
              "0                               2               0                   3   \n",
              "1                               2               0                   1   \n",
              "2                               2               0                  12   \n",
              "3                               2               0                  12   \n",
              "4                              4+               0                   8   \n",
              "5                               3               0                   1   \n",
              "6                               2               1                   1   \n",
              "7                               2               1                   1   \n",
              "8                               2               1                   1   \n",
              "9                               1               1                   8   \n",
              "10                              1               1                   5   \n",
              "11                              1               1                   8   \n",
              "12                              1               1                   8   \n",
              "13                              1               1                   1   \n",
              "14                              1               0                   5   \n",
              "15                              1               0                   4   \n",
              "16                              1               0                   2   \n",
              "17                              1               0                   5   \n",
              "18                              1               1                   1   \n",
              "19                             4+               1                   1   \n",
              "20                             4+               1                   5   \n",
              "21                             4+               1                   8   \n",
              "22                             4+               1                   8   \n",
              "23                             4+               1                   8   \n",
              "24                             4+               1                   1   \n",
              "25                              0               0                   6   \n",
              "26                              0               0                   8   \n",
              "27                              0               0                   5   \n",
              "28                              0               0                   5   \n",
              "29                             4+               1                   2   \n",
              "...                           ...             ...                 ...   \n",
              "537547                          1               0                   1   \n",
              "537548                          1               1                  15   \n",
              "537549                          1               1                   2   \n",
              "537550                          3               0                   1   \n",
              "537551                          3               0                   5   \n",
              "537552                          3               0                   6   \n",
              "537553                          3               0                  10   \n",
              "537554                          3               0                   5   \n",
              "537555                          3               0                  13   \n",
              "537556                          1               1                   8   \n",
              "537557                          1               1                   2   \n",
              "537558                          1               1                   8   \n",
              "537559                          1               1                   8   \n",
              "537560                          1               1                   8   \n",
              "537561                          1               1                   8   \n",
              "537562                          1               1                   1   \n",
              "537563                          1               1                   8   \n",
              "537564                          1               1                   5   \n",
              "537565                          1               1                   8   \n",
              "537566                          1               1                   5   \n",
              "537567                          1               1                   8   \n",
              "537568                          1               1                  11   \n",
              "537569                          1               1                   5   \n",
              "537570                          1               1                   1   \n",
              "537571                          1               0                   1   \n",
              "537572                          1               0                   1   \n",
              "537573                          1               0                   1   \n",
              "537574                          1               0                   8   \n",
              "537575                          1               0                   5   \n",
              "537576                          1               0                   5   \n",
              "\n",
              "        Product_Category_2  Product_Category_3  Purchase  \n",
              "0                      NaN                 NaN      8370  \n",
              "1                      6.0                14.0     15200  \n",
              "2                      NaN                 NaN      1422  \n",
              "3                     14.0                 NaN      1057  \n",
              "4                      NaN                 NaN      7969  \n",
              "5                      2.0                 NaN     15227  \n",
              "6                      8.0                17.0     19215  \n",
              "7                     15.0                 NaN     15854  \n",
              "8                     16.0                 NaN     15686  \n",
              "9                      NaN                 NaN      7871  \n",
              "10                    11.0                 NaN      5254  \n",
              "11                     NaN                 NaN      3957  \n",
              "12                     NaN                 NaN      6073  \n",
              "13                     2.0                 5.0     15665  \n",
              "14                     8.0                14.0      5378  \n",
              "15                     5.0                 NaN      2079  \n",
              "16                     3.0                 4.0     13055  \n",
              "17                    14.0                 NaN      8851  \n",
              "18                    14.0                16.0     11788  \n",
              "19                     5.0                15.0     19614  \n",
              "20                    14.0                 NaN      8584  \n",
              "21                     NaN                 NaN      9872  \n",
              "22                     NaN                 NaN      9743  \n",
              "23                     NaN                 NaN      5982  \n",
              "24                     8.0                14.0     11927  \n",
              "25                     8.0                 NaN     16662  \n",
              "26                     NaN                 NaN      5887  \n",
              "27                    14.0                 NaN      6973  \n",
              "28                     8.0                14.0      5391  \n",
              "29                     4.0                 8.0     16352  \n",
              "...                    ...                 ...       ...  \n",
              "537547                 2.0                15.0     11543  \n",
              "537548                 NaN                 NaN     20924  \n",
              "537549                 8.0                14.0     13082  \n",
              "537550                 NaN                 NaN     11658  \n",
              "537551                 6.0                 8.0      6863  \n",
              "537552                 8.0                 NaN     16415  \n",
              "537553                13.0                 NaN     18526  \n",
              "537554                14.0                 NaN      7099  \n",
              "537555                16.0                 NaN       578  \n",
              "537556                14.0                 NaN      2183  \n",
              "537557                 NaN                 NaN     12724  \n",
              "537558                17.0                 NaN      7796  \n",
              "537559                17.0                 NaN      7770  \n",
              "537560                16.0                 NaN      5940  \n",
              "537561                16.0                 NaN      7834  \n",
              "537562                13.0                14.0     11508  \n",
              "537563                 NaN                 NaN      6074  \n",
              "537564                14.0                 NaN      7084  \n",
              "537565                 NaN                 NaN      7934  \n",
              "537566                 NaN                 NaN      5350  \n",
              "537567                14.0                 NaN      1994  \n",
              "537568                 NaN                 NaN      5930  \n",
              "537569                14.0                 NaN      7042  \n",
              "537570                16.0                 NaN     15491  \n",
              "537571                 2.0                 5.0     11852  \n",
              "537572                 2.0                 NaN     11664  \n",
              "537573                15.0                16.0     19196  \n",
              "537574                15.0                 NaN      8043  \n",
              "537575                 NaN                 NaN      7172  \n",
              "537576                 8.0                 NaN      6875  \n",
              "\n",
              "[537577 rows x 12 columns]"
            ]
          },
          "metadata": {
            "tags": []
          },
          "execution_count": 3
        }
      ]
    },
    {
      "metadata": {
        "id": "ri1JTSYtyEYQ",
        "colab_type": "text"
      },
      "cell_type": "markdown",
      "source": [
        "##Prever/classificar:\n",
        "\n",
        "Com o nosso Dataset vamos poder prever uma série de dados, tais como:\n",
        "- Prever intervalo de idade de um cliente de acordo com os dados fornecidos;\n",
        "- Prever o genero de um cliente de acordo com os dados fornecidos;\n",
        "\n",
        "Depois de discutir com o professor acerca dos nossos objectivos para com este Dataset, em grupo decidimos trabalhar os dados pela Regressão (em vez de Classificação). O nosso objectivo entao é **prever a quantidade de produtos e gasto de um cliente de acordo com os dados fornecidos**.\n",
        "\n",
        "Para resolver o nosso problema temos de escolher uma label/target. Como queremos prever os gastos dos clientes temos então a label/target **Purchase**.\n",
        "\n",
        "---\n",
        "Para podermos trabalhar os dados temos de saber qual a informação relevante para o nosso trabalho. Temos de explorar, analisar e visualizar os dados da nossa Dataset. Deste modo, podemos concluir se as colunas relevantes nos irão permitir fazer Regressão e conseguir chegar ao nosso objectivo.\n",
        "\n",
        "\n"
      ]
    },
    {
      "metadata": {
        "id": "bomCoiijzAHA",
        "colab_type": "code",
        "outputId": "d0cb7d4e-7cc3-4a86-d861-054043003108",
        "colab": {
          "base_uri": "https://localhost:8080/",
          "height": 238
        }
      },
      "cell_type": "code",
      "source": [
        "#Verificar se há colunas a NULL\n",
        "df.isna().any()\n",
        "\n",
        "#Concluimos que o Product_Category_2 e Product_Category_3 tem valores a NULL."
      ],
      "execution_count": 4,
      "outputs": [
        {
          "output_type": "execute_result",
          "data": {
            "text/plain": [
              "User_ID                       False\n",
              "Product_ID                    False\n",
              "Gender                        False\n",
              "Age                           False\n",
              "Occupation                    False\n",
              "City_Category                 False\n",
              "Stay_In_Current_City_Years    False\n",
              "Marital_Status                False\n",
              "Product_Category_1            False\n",
              "Product_Category_2             True\n",
              "Product_Category_3             True\n",
              "Purchase                      False\n",
              "dtype: bool"
            ]
          },
          "metadata": {
            "tags": []
          },
          "execution_count": 4
        }
      ]
    },
    {
      "metadata": {
        "id": "lJxRRiEb0XMH",
        "colab_type": "code",
        "outputId": "2d05ba39-6b49-4954-80f5-33da3e17f77a",
        "colab": {
          "base_uri": "https://localhost:8080/",
          "height": 221
        }
      },
      "cell_type": "code",
      "source": [
        "#Nos Product_Category_2 e Product_Category_3 podemos alterar os NaN para 0\n",
        "df.fillna(value=0,inplace=True)\n",
        "\n",
        "#Vamos alterar os valores das categorias de float para int\n",
        "df[\"Product_Category_2\"] = df[\"Product_Category_2\"].astype(int)\n",
        "df[\"Product_Category_3\"] = df[\"Product_Category_3\"].astype(int)\n",
        "\n",
        "#Verificar se as alineas anteriores foram correctamente executadas\n",
        "df.loc[:,\"Product_Category_2\"]\n",
        "df.loc[0:10,\"Product_Category_3\"]\n",
        "\n",
        "#display('Valores nulos no dataset: ' + str(df.isnull().sum().sum()))\n",
        "\n"
      ],
      "execution_count": 5,
      "outputs": [
        {
          "output_type": "execute_result",
          "data": {
            "text/plain": [
              "0      0\n",
              "1     14\n",
              "2      0\n",
              "3      0\n",
              "4      0\n",
              "5      0\n",
              "6     17\n",
              "7      0\n",
              "8      0\n",
              "9      0\n",
              "10     0\n",
              "Name: Product_Category_3, dtype: int64"
            ]
          },
          "metadata": {
            "tags": []
          },
          "execution_count": 5
        }
      ]
    },
    {
      "metadata": {
        "id": "NjIr318y24Wm",
        "colab_type": "code",
        "colab": {}
      },
      "cell_type": "code",
      "source": [
        "#Não precisamos de User_ID e Product_ID e Occupation, vamos retira-los\n",
        "df.drop(columns = [\"User_ID\",\"Product_ID\"],inplace=True)\n",
        "df.drop(columns = [\"Occupation\"],inplace=True)"
      ],
      "execution_count": 0,
      "outputs": []
    },
    {
      "metadata": {
        "id": "HLr6kJP54n0C",
        "colab_type": "code",
        "outputId": "02a9f173-cf5f-4067-af6c-57d180edb5e7",
        "colab": {
          "base_uri": "https://localhost:8080/",
          "height": 512
        }
      },
      "cell_type": "code",
      "source": [
        "#Verificar se as operações foram feitas com sucesso\n",
        "df[0:10]"
      ],
      "execution_count": 67,
      "outputs": [
        {
          "output_type": "execute_result",
          "data": {
            "text/html": [
              "<div>\n",
              "<style scoped>\n",
              "    .dataframe tbody tr th:only-of-type {\n",
              "        vertical-align: middle;\n",
              "    }\n",
              "\n",
              "    .dataframe tbody tr th {\n",
              "        vertical-align: top;\n",
              "    }\n",
              "\n",
              "    .dataframe thead th {\n",
              "        text-align: right;\n",
              "    }\n",
              "</style>\n",
              "<table border=\"1\" class=\"dataframe\">\n",
              "  <thead>\n",
              "    <tr style=\"text-align: right;\">\n",
              "      <th></th>\n",
              "      <th>Gender</th>\n",
              "      <th>Age</th>\n",
              "      <th>City_Category</th>\n",
              "      <th>Stay_In_Current_City_Years</th>\n",
              "      <th>Marital_Status</th>\n",
              "      <th>Product_Category_1</th>\n",
              "      <th>Product_Category_2</th>\n",
              "      <th>Product_Category_3</th>\n",
              "      <th>Purchase</th>\n",
              "      <th>combined_G_M</th>\n",
              "    </tr>\n",
              "  </thead>\n",
              "  <tbody>\n",
              "    <tr>\n",
              "      <th>0</th>\n",
              "      <td>F</td>\n",
              "      <td>0-17</td>\n",
              "      <td>A</td>\n",
              "      <td>2</td>\n",
              "      <td>0</td>\n",
              "      <td>3</td>\n",
              "      <td>0</td>\n",
              "      <td>0</td>\n",
              "      <td>8370</td>\n",
              "      <td>F_0</td>\n",
              "    </tr>\n",
              "    <tr>\n",
              "      <th>1</th>\n",
              "      <td>F</td>\n",
              "      <td>0-17</td>\n",
              "      <td>A</td>\n",
              "      <td>2</td>\n",
              "      <td>0</td>\n",
              "      <td>1</td>\n",
              "      <td>6</td>\n",
              "      <td>14</td>\n",
              "      <td>15200</td>\n",
              "      <td>F_0</td>\n",
              "    </tr>\n",
              "    <tr>\n",
              "      <th>2</th>\n",
              "      <td>F</td>\n",
              "      <td>0-17</td>\n",
              "      <td>A</td>\n",
              "      <td>2</td>\n",
              "      <td>0</td>\n",
              "      <td>12</td>\n",
              "      <td>0</td>\n",
              "      <td>0</td>\n",
              "      <td>1422</td>\n",
              "      <td>F_0</td>\n",
              "    </tr>\n",
              "    <tr>\n",
              "      <th>3</th>\n",
              "      <td>F</td>\n",
              "      <td>0-17</td>\n",
              "      <td>A</td>\n",
              "      <td>2</td>\n",
              "      <td>0</td>\n",
              "      <td>12</td>\n",
              "      <td>14</td>\n",
              "      <td>0</td>\n",
              "      <td>1057</td>\n",
              "      <td>F_0</td>\n",
              "    </tr>\n",
              "    <tr>\n",
              "      <th>4</th>\n",
              "      <td>M</td>\n",
              "      <td>55+</td>\n",
              "      <td>C</td>\n",
              "      <td>4+</td>\n",
              "      <td>0</td>\n",
              "      <td>8</td>\n",
              "      <td>0</td>\n",
              "      <td>0</td>\n",
              "      <td>7969</td>\n",
              "      <td>M_0</td>\n",
              "    </tr>\n",
              "    <tr>\n",
              "      <th>5</th>\n",
              "      <td>M</td>\n",
              "      <td>26-35</td>\n",
              "      <td>A</td>\n",
              "      <td>3</td>\n",
              "      <td>0</td>\n",
              "      <td>1</td>\n",
              "      <td>2</td>\n",
              "      <td>0</td>\n",
              "      <td>15227</td>\n",
              "      <td>M_0</td>\n",
              "    </tr>\n",
              "    <tr>\n",
              "      <th>6</th>\n",
              "      <td>M</td>\n",
              "      <td>46-50</td>\n",
              "      <td>B</td>\n",
              "      <td>2</td>\n",
              "      <td>1</td>\n",
              "      <td>1</td>\n",
              "      <td>8</td>\n",
              "      <td>17</td>\n",
              "      <td>19215</td>\n",
              "      <td>M_1</td>\n",
              "    </tr>\n",
              "    <tr>\n",
              "      <th>7</th>\n",
              "      <td>M</td>\n",
              "      <td>46-50</td>\n",
              "      <td>B</td>\n",
              "      <td>2</td>\n",
              "      <td>1</td>\n",
              "      <td>1</td>\n",
              "      <td>15</td>\n",
              "      <td>0</td>\n",
              "      <td>15854</td>\n",
              "      <td>M_1</td>\n",
              "    </tr>\n",
              "    <tr>\n",
              "      <th>8</th>\n",
              "      <td>M</td>\n",
              "      <td>46-50</td>\n",
              "      <td>B</td>\n",
              "      <td>2</td>\n",
              "      <td>1</td>\n",
              "      <td>1</td>\n",
              "      <td>16</td>\n",
              "      <td>0</td>\n",
              "      <td>15686</td>\n",
              "      <td>M_1</td>\n",
              "    </tr>\n",
              "    <tr>\n",
              "      <th>9</th>\n",
              "      <td>M</td>\n",
              "      <td>26-35</td>\n",
              "      <td>A</td>\n",
              "      <td>1</td>\n",
              "      <td>1</td>\n",
              "      <td>8</td>\n",
              "      <td>0</td>\n",
              "      <td>0</td>\n",
              "      <td>7871</td>\n",
              "      <td>M_1</td>\n",
              "    </tr>\n",
              "  </tbody>\n",
              "</table>\n",
              "</div>"
            ],
            "text/plain": [
              "  Gender    Age City_Category Stay_In_Current_City_Years  Marital_Status  \\\n",
              "0      F   0-17             A                          2               0   \n",
              "1      F   0-17             A                          2               0   \n",
              "2      F   0-17             A                          2               0   \n",
              "3      F   0-17             A                          2               0   \n",
              "4      M    55+             C                         4+               0   \n",
              "5      M  26-35             A                          3               0   \n",
              "6      M  46-50             B                          2               1   \n",
              "7      M  46-50             B                          2               1   \n",
              "8      M  46-50             B                          2               1   \n",
              "9      M  26-35             A                          1               1   \n",
              "\n",
              "   Product_Category_1  Product_Category_2  Product_Category_3  Purchase  \\\n",
              "0                   3                   0                   0      8370   \n",
              "1                   1                   6                  14     15200   \n",
              "2                  12                   0                   0      1422   \n",
              "3                  12                  14                   0      1057   \n",
              "4                   8                   0                   0      7969   \n",
              "5                   1                   2                   0     15227   \n",
              "6                   1                   8                  17     19215   \n",
              "7                   1                  15                   0     15854   \n",
              "8                   1                  16                   0     15686   \n",
              "9                   8                   0                   0      7871   \n",
              "\n",
              "  combined_G_M  \n",
              "0          F_0  \n",
              "1          F_0  \n",
              "2          F_0  \n",
              "3          F_0  \n",
              "4          M_0  \n",
              "5          M_0  \n",
              "6          M_1  \n",
              "7          M_1  \n",
              "8          M_1  \n",
              "9          M_1  "
            ]
          },
          "metadata": {
            "tags": []
          },
          "execution_count": 67
        }
      ]
    },
    {
      "metadata": {
        "id": "nGrkFUIC3aqa",
        "colab_type": "text"
      },
      "cell_type": "markdown",
      "source": [
        "#Visualizar os dados"
      ]
    },
    {
      "metadata": {
        "id": "q0sBSyvG3Jxk",
        "colab_type": "code",
        "outputId": "2250803c-735a-4e90-9a62-25522fb26f65",
        "colab": {
          "base_uri": "https://localhost:8080/",
          "height": 463
        }
      },
      "cell_type": "code",
      "source": [
        "count_m = df[df['Gender']=='M'].count()[0]\n",
        "count_f = df[df['Gender']=='F'].count()[0]\n",
        "#Vamos visualizar,atraves de um gráfico, qual o genero que fez mais compras.\n",
        "\n",
        "sns.countplot(df['Gender'])\n",
        "\n",
        "print('Quantidade de Homens:',count_m)\n",
        "print('Quantidade de Mulheres:',count_f)\n",
        "print('\\n')\n",
        "#Podemos concluir que os Homens gastaram mais dinheiro na Black Friday."
      ],
      "execution_count": 68,
      "outputs": [
        {
          "output_type": "stream",
          "text": [
            "Quantidade de Homens: 405380\n",
            "Quantidade de Mulheres: 132197\n",
            "\n",
            "\n"
          ],
          "name": "stdout"
        },
        {
          "output_type": "stream",
          "text": [
            "/usr/local/lib/python3.6/dist-packages/seaborn/categorical.py:1428: FutureWarning: remove_na is deprecated and is a private function. Do not use.\n",
            "  stat_data = remove_na(group_data)\n"
          ],
          "name": "stderr"
        },
        {
          "output_type": "display_data",
          "data": {
            "image/png": "[encoded data removed]",
            "text/plain": [
              "<matplotlib.figure.Figure at 0x7f7a6cac3d68>"
            ]
          },
          "metadata": {
            "tags": []
          }
        }
      ]
    },
    {
      "metadata": {
        "id": "PJiI9pe56MfS",
        "colab_type": "code",
        "outputId": "1f4006f2-0625-4a90-c456-03d25ff77a4e",
        "colab": {
          "base_uri": "https://localhost:8080/",
          "height": 412
        }
      },
      "cell_type": "code",
      "source": [
        "#Diferenças nas idades e em cada genero\n",
        "\n",
        "sns.countplot(df['Age'],hue=df['Gender'])\n",
        "\n",
        "#Podemos concluir que, independente da idade, os Homens continuam a gastar mais que as Mulheres."
      ],
      "execution_count": 69,
      "outputs": [
        {
          "output_type": "stream",
          "text": [
            "/usr/local/lib/python3.6/dist-packages/seaborn/categorical.py:1468: FutureWarning: remove_na is deprecated and is a private function. Do not use.\n",
            "  stat_data = remove_na(group_data[hue_mask])\n"
          ],
          "name": "stderr"
        },
        {
          "output_type": "execute_result",
          "data": {
            "text/plain": [
              "<matplotlib.axes._subplots.AxesSubplot at 0x7f7a6c79ba20>"
            ]
          },
          "metadata": {
            "tags": []
          },
          "execution_count": 69
        },
        {
          "output_type": "display_data",
          "data": {
            "image/png": "[encoded data removed]",
            "text/plain": [
              "<matplotlib.figure.Figure at 0x7f7a6c8625c0>"
            ]
          },
          "metadata": {
            "tags": []
          }
        }
      ]
    },
    {
      "metadata": {
        "id": "xGz1-NlR6hFe",
        "colab_type": "code",
        "outputId": "2b7d54c4-563f-46b9-ff0a-d8b9751c3e32",
        "colab": {
          "base_uri": "https://localhost:8080/",
          "height": 429
        }
      },
      "cell_type": "code",
      "source": [
        "#Para aprofundarmos melhor a cena, vamos criar uma coluna com gender+married para vermos quantos dos Homens são casados.\n",
        "#F_0 e M_0 representam feminino e masculino que são solteiros; M_1 e F_1 representam feminino e masculino que são casados.\n",
        "\n",
        "df['combined_G_M'] = df.apply(lambda x:'%s_%s' % (x['Gender'],x['Marital_Status']),axis=1)\n",
        "print(df['combined_G_M'].unique())\n",
        "\n",
        "sns.countplot(df['Age'],hue=df['combined_G_M'])\n",
        "\n",
        "#Podemos concluir que não há barras de casados no intervalo 0-17, como é normal, apartir das idades 46-50 há menos Mulheres, nas idades\n",
        "#entre 46-55+ os Homens casados gastam mais que os Homens solteiros. Uma possível razão de isto acontecer será devido aos Homens casados\n",
        "#pagarem as compras às suas Mulheres.\n"
      ],
      "execution_count": 70,
      "outputs": [
        {
          "output_type": "stream",
          "text": [
            "['F_0' 'M_0' 'M_1' 'F_1']\n"
          ],
          "name": "stdout"
        },
        {
          "output_type": "stream",
          "text": [
            "/usr/local/lib/python3.6/dist-packages/seaborn/categorical.py:1468: FutureWarning: remove_na is deprecated and is a private function. Do not use.\n",
            "  stat_data = remove_na(group_data[hue_mask])\n"
          ],
          "name": "stderr"
        },
        {
          "output_type": "execute_result",
          "data": {
            "text/plain": [
              "<matplotlib.axes._subplots.AxesSubplot at 0x7f7a6a4110f0>"
            ]
          },
          "metadata": {
            "tags": []
          },
          "execution_count": 70
        },
        {
          "output_type": "display_data",
          "data": {
            "image/png": "[encoded data removed]",
            "text/plain": [
              "<matplotlib.figure.Figure at 0x7f7a6c729470>"
            ]
          },
          "metadata": {
            "tags": []
          }
        }
      ]
    },
    {
      "metadata": {
        "id": "uIt_ZYQs8m85",
        "colab_type": "code",
        "outputId": "fb56a0e7-d3a8-45f9-8000-367f91357c2c",
        "colab": {
          "base_uri": "https://localhost:8080/",
          "height": 412
        }
      },
      "cell_type": "code",
      "source": [
        "#Apartir dos dados que temos não sabemos se os produtos são produtos mais provaveis de serem comprados por um genero ou outro. \n",
        "#Vamos analisar os produtos de categoria 1 para ver se tem alguma inclinação a serem comprados por Homens ou Mulheres.\n",
        "\n",
        "sns.countplot(df['Product_Category_1'],hue=df['combined_G_M'])\n",
        "\n",
        "#Analisando o gráfico não há muita diferença entre os dois generos e os gastos estão distribuidos de forma parecida no gráfico anterior."
      ],
      "execution_count": 71,
      "outputs": [
        {
          "output_type": "stream",
          "text": [
            "/usr/local/lib/python3.6/dist-packages/seaborn/categorical.py:1468: FutureWarning: remove_na is deprecated and is a private function. Do not use.\n",
            "  stat_data = remove_na(group_data[hue_mask])\n"
          ],
          "name": "stderr"
        },
        {
          "output_type": "execute_result",
          "data": {
            "text/plain": [
              "<matplotlib.axes._subplots.AxesSubplot at 0x7f7a6c682f28>"
            ]
          },
          "metadata": {
            "tags": []
          },
          "execution_count": 71
        },
        {
          "output_type": "display_data",
          "data": {
            "image/png": "[encoded data removed]",
            "text/plain": [
              "<matplotlib.figure.Figure at 0x7f7a67968d30>"
            ]
          },
          "metadata": {
            "tags": []
          }
        }
      ]
    },
    {
      "metadata": {
        "id": "EiFJgclU2n7z",
        "colab_type": "code",
        "colab": {
          "base_uri": "https://localhost:8080/",
          "height": 412
        },
        "outputId": "582d64be-86c5-4c66-d32a-553b3c3b2b40"
      },
      "cell_type": "code",
      "source": [
        "sns.countplot(df['Product_Category_2'],hue=df['combined_G_M'])"
      ],
      "execution_count": 72,
      "outputs": [
        {
          "output_type": "stream",
          "text": [
            "/usr/local/lib/python3.6/dist-packages/seaborn/categorical.py:1468: FutureWarning: remove_na is deprecated and is a private function. Do not use.\n",
            "  stat_data = remove_na(group_data[hue_mask])\n"
          ],
          "name": "stderr"
        },
        {
          "output_type": "execute_result",
          "data": {
            "text/plain": [
              "<matplotlib.axes._subplots.AxesSubplot at 0x7f7a6c855c88>"
            ]
          },
          "metadata": {
            "tags": []
          },
          "execution_count": 72
        },
        {
          "output_type": "display_data",
          "data": {
            "image/png": "[encoded data removed]",
            "text/plain": [
              "<matplotlib.figure.Figure at 0x7f7a6c715780>"
            ]
          },
          "metadata": {
            "tags": []
          }
        }
      ]
    },
    {
      "metadata": {
        "id": "v0oIcffO2x_2",
        "colab_type": "code",
        "colab": {
          "base_uri": "https://localhost:8080/",
          "height": 412
        },
        "outputId": "c8b24240-6896-4992-b12d-034ce7a51a87"
      },
      "cell_type": "code",
      "source": [
        "sns.countplot(df['Product_Category_3'],hue=df['combined_G_M'])"
      ],
      "execution_count": 73,
      "outputs": [
        {
          "output_type": "stream",
          "text": [
            "/usr/local/lib/python3.6/dist-packages/seaborn/categorical.py:1468: FutureWarning: remove_na is deprecated and is a private function. Do not use.\n",
            "  stat_data = remove_na(group_data[hue_mask])\n"
          ],
          "name": "stderr"
        },
        {
          "output_type": "execute_result",
          "data": {
            "text/plain": [
              "<matplotlib.axes._subplots.AxesSubplot at 0x7f7a6a3d5828>"
            ]
          },
          "metadata": {
            "tags": []
          },
          "execution_count": 73
        },
        {
          "output_type": "display_data",
          "data": {
            "image/png": "[encoded data removed]",
            "text/plain": [
              "<matplotlib.figure.Figure at 0x7f7a6c389240>"
            ]
          },
          "metadata": {
            "tags": []
          }
        }
      ]
    },
    {
      "metadata": {
        "id": "KHuNvcAB4BpC",
        "colab_type": "code",
        "outputId": "2a5e57f9-909c-46a8-a50d-155bc15998d3",
        "colab": {
          "base_uri": "https://localhost:8080/",
          "height": 412
        }
      },
      "cell_type": "code",
      "source": [
        "#Vamos visualizar em relação a idades\n",
        "\n",
        "sns.countplot(df['Age'])\n",
        "\n",
        "#Podemos concluir que o intervalo de idades que gastou mais dinheiro foi 26-35"
      ],
      "execution_count": 74,
      "outputs": [
        {
          "output_type": "stream",
          "text": [
            "/usr/local/lib/python3.6/dist-packages/seaborn/categorical.py:1428: FutureWarning: remove_na is deprecated and is a private function. Do not use.\n",
            "  stat_data = remove_na(group_data)\n"
          ],
          "name": "stderr"
        },
        {
          "output_type": "execute_result",
          "data": {
            "text/plain": [
              "<matplotlib.axes._subplots.AxesSubplot at 0x7f7a6c33c8d0>"
            ]
          },
          "metadata": {
            "tags": []
          },
          "execution_count": 74
        },
        {
          "output_type": "display_data",
          "data": {
            "image/png": "[encoded data removed]",
            "text/plain": [
              "<matplotlib.figure.Figure at 0x7f7a6c559dd8>"
            ]
          },
          "metadata": {
            "tags": []
          }
        }
      ]
    },
    {
      "metadata": {
        "id": "8GnCCMQg_MnB",
        "colab_type": "text"
      },
      "cell_type": "markdown",
      "source": [
        "##Vamos também analisar outros parâmetros mais à frente..."
      ]
    },
    {
      "metadata": {
        "id": "u2ZGVsDzEns0",
        "colab_type": "code",
        "outputId": "6623bcc8-b5a2-49be-98be-6699938555cf",
        "colab": {
          "base_uri": "https://localhost:8080/",
          "height": 391
        }
      },
      "cell_type": "code",
      "source": [
        "#Dimensionalidade\n",
        "display('Dimensionalidade: ' + str(len(df.columns)))\n",
        "print('\\n')\n",
        "\n",
        "#Esparsidade\n",
        "display('Esparsidade de cada coluna')\n",
        "ts = pd.Series(np.random.randn(10))\n",
        "ts[2:-2] = np.nan\n",
        "sts = ts.to_sparse()\n",
        "print(sts)\n",
        "print('\\n')\n",
        "\n",
        "#Tamanho\n",
        "display('Tamanho')\n",
        "df.shape\n"
      ],
      "execution_count": 75,
      "outputs": [
        {
          "output_type": "display_data",
          "data": {
            "text/plain": [
              "'Dimensionalidade: 10'"
            ]
          },
          "metadata": {
            "tags": []
          }
        },
        {
          "output_type": "stream",
          "text": [
            "\n",
            "\n"
          ],
          "name": "stdout"
        },
        {
          "output_type": "display_data",
          "data": {
            "text/plain": [
              "'Esparsidade de cada coluna'"
            ]
          },
          "metadata": {
            "tags": []
          }
        },
        {
          "output_type": "stream",
          "text": [
            "0   -0.755392\n",
            "1   -1.364711\n",
            "2         NaN\n",
            "3         NaN\n",
            "4         NaN\n",
            "5         NaN\n",
            "6         NaN\n",
            "7         NaN\n",
            "8    0.798646\n",
            "9   -0.502311\n",
            "dtype: float64\n",
            "BlockIndex\n",
            "Block locations: array([0, 8], dtype=int32)\n",
            "Block lengths: array([2, 2], dtype=int32)\n",
            "\n",
            "\n"
          ],
          "name": "stdout"
        },
        {
          "output_type": "display_data",
          "data": {
            "text/plain": [
              "'Tamanho'"
            ]
          },
          "metadata": {
            "tags": []
          }
        },
        {
          "output_type": "execute_result",
          "data": {
            "text/plain": [
              "(537577, 10)"
            ]
          },
          "metadata": {
            "tags": []
          },
          "execution_count": 75
        }
      ]
    },
    {
      "metadata": {
        "id": "irA57LrAKkeV",
        "colab_type": "text"
      },
      "cell_type": "markdown",
      "source": [
        "**Resolução**\n",
        "\n",
        "- User_ID: int/unique\n",
        "- Product_ID: int/unique\n",
        "- Gender: F/M\n",
        "- Age: idade do cliente em anos \n",
        "- Occupation: int, minutos que o cliente esteve na loja\n",
        "- City_Category: A,B,C. tipo de cidade onde o cliente vive\n",
        "- Stay_In_Current_City_Years: int, número de anos a viver na cidade\n",
        "- Marital_Status: 0,1, 0 corresponde a solteiro, 1 corresponde a casado\n",
        "- Product_Category_1: int, número de categorias do produto\n",
        "- Product_Category_2: int, \"\n",
        "- Product_Category_3: int, \"\n",
        "- Purchase: int, valor total gasto por cliente\n",
        "Não temos informação do tipo de moeda, podemos considerar para este trabalho a moeda Euro(€).\n",
        "\n",
        "Como podemos verificar, cada linha representa uma transação única."
      ]
    },
    {
      "metadata": {
        "id": "tiCGVx7A9UcS",
        "colab_type": "text"
      },
      "cell_type": "markdown",
      "source": [
        "**Features irrelevantes:**\n",
        "\n",
        "- Product_Id:discreto \n",
        "\n",
        "O Product_Id pode ser irrelevante depende do facto se o Product_Category corresponder a um modelo de um produto (xiaomi redmi 4x por exemplo e assim o product_id corresponde ao id de\n",
        "telemóvel) ou se o product_id corresponde a um produto específico.\n",
        "- User_ID:discreto\n",
        "\n",
        "O User_ID pode ser irrelevante porque o nosso objetivo é prever vendas, deste modo um ID de cliente não altera o volume de vendas.\n",
        "\n",
        "O Occupation pode ser irrelevante porque para o nosso objectivo não precisamos de saber quando tempo o cliente teve na loja à procura do produto desejado.\n",
        "\n",
        "**Tipo**\n",
        "- Gender:binário\n",
        "- Age:contínuo\n",
        "- Occupation:discreto \n",
        "- City_category:discreto \n",
        "- Stay_in_Current_City:contnuo \n",
        "- Marital Status:Discreto\n",
        "- Purchase:contínuo \n",
        "- Product_Category_1:Discreto\n",
        "- Product_Category_2:Discreto\n",
        "- Product_Category_3:Discreto\n",
        "\n",
        "**NOTA**\n",
        "\n",
        "As features aqui não presentes são aquilo que consideramos features irrelevantes para o que queremos estudar \n",
        "\n",
        "**Análise Nulls**\n",
        "\n",
        "Pela análise de nulls podemos verificar por exemplo quais os produtos em que os clientes se focam mais uma vez que um null num Product_Category como no nosso exemplo implica que o cliente não comprou aquele produto, assim é possível saber as tendências do mercado e, no caso dos clientes, saber quais os o produtos mais apelativos ao mercado geral. \n",
        "Torna também possível à loja criar um stock mais especializado nos produtos mais apelativos o que poderá implicar uma compra ainda maior desses produtos na próxima Black Friday.\n"
      ]
    },
    {
      "metadata": {
        "id": "6yea4tp4D83S",
        "colab_type": "code",
        "outputId": "303c28fc-708c-4628-c64c-38d89ec3f826",
        "colab": {
          "base_uri": "https://localhost:8080/",
          "height": 906
        }
      },
      "cell_type": "code",
      "source": [
        "#Histogramas Código\n",
        "#df.loc[[0, 1, 2, 3, 4], :] \n",
        "#O pedaço de código ao lado deveria em teoria permitir um filtro dos primeiros 5 itens do dataframe \n",
        "#impossível testar testei na aula mas aconteceu a mesma coisa ela fica a correr eternamente\n",
        "#df.hist(bins=500)\n",
        "\n",
        "plt.bar('Purchase','Gender')\n",
        "plt.xlim([0,100])\n",
        "plt.ylim([0,10000])\n",
        "plt.title(\"Purchase for each gender\")\n",
        "plt.xlabel(\"Gender\")\n",
        "plt.ylabel(\"Purchase\")\n",
        "\n",
        "\n",
        "plt.grid(axis='y', alpha=0.75)\n",
        "plt.tight_layout()\n",
        "plt.show()\n",
        "\n",
        "print('----------------------------------------------------------------------------------------------------------------')\n",
        "\n",
        "spent_byage = df.groupby(by='Gender').mean()['Purchase']\n",
        "plt.figure(figsize=(12,6))\n",
        "\n",
        "sns.barplot(x=spent_byage.index,y=spent_byage.values, palette=\"Blues_d\")\n",
        "plt.title('Total gasto de Mulheres e Homens (€)')\n",
        "plt.show()\n",
        "\n",
        "print('\\n')\n",
        "print('Gasto das compras de Mulheres:',round(df[df['Gender']=='F']['Purchase'].sum()/count_f,3))\n",
        "print('Gasto nas compras dos Homens:',round(df[df['Gender']=='M']['Purchase'].sum()/count_m,3))\n"
      ],
      "execution_count": 76,
      "outputs": [
        {
          "output_type": "display_data",
          "data": {
            "image/png": "[encoded data removed]",
            "text/plain": [
              "<matplotlib.figure.Figure at 0x7f7a6ce61cc0>"
            ]
          },
          "metadata": {
            "tags": []
          }
        },
        {
          "output_type": "stream",
          "text": [
            "----------------------------------------------------------------------------------------------------------------\n"
          ],
          "name": "stdout"
        },
        {
          "output_type": "stream",
          "text": [
            "/usr/local/lib/python3.6/dist-packages/seaborn/categorical.py:1428: FutureWarning: remove_na is deprecated and is a private function. Do not use.\n",
            "  stat_data = remove_na(group_data)\n"
          ],
          "name": "stderr"
        },
        {
          "output_type": "display_data",
          "data": {
            "image/png": "[encoded data removed]",
            "text/plain": [
              "<matplotlib.figure.Figure at 0x7f7a6c8548d0>"
            ]
          },
          "metadata": {
            "tags": []
          }
        },
        {
          "output_type": "stream",
          "text": [
            "\n",
            "\n",
            "Gasto das compras de Mulheres: 8809.761\n",
            "Gasto nas compras dos Homens: 9504.772\n"
          ],
          "name": "stdout"
        }
      ]
    },
    {
      "metadata": {
        "id": "a7ARWxvnXufN",
        "colab_type": "code",
        "outputId": "ef04d473-b764-4b09-92d3-4ad1e9a6e523",
        "colab": {
          "base_uri": "https://localhost:8080/",
          "height": 34
        }
      },
      "cell_type": "code",
      "source": [
        "#Outliers\n",
        "indexes = [i for i,j in enumerate(df[\"Purchase\"]) if j>23500]\n",
        "outlier = df.iloc[indexes, :]\n",
        "outlier.shape\n",
        "\n"
      ],
      "execution_count": 77,
      "outputs": [
        {
          "output_type": "execute_result",
          "data": {
            "text/plain": [
              "(1102, 10)"
            ]
          },
          "metadata": {
            "tags": []
          },
          "execution_count": 77
        }
      ]
    },
    {
      "metadata": {
        "id": "V4lP90kxAfRZ",
        "colab_type": "text"
      },
      "cell_type": "markdown",
      "source": [
        "**Outras features que se poderia utilizar** para enriquecer a informação do nosso problema tendo em conta que o objetivo é prever a quantidade de produtos e gastos de um cliente de acordo com os dados fornecidos:\n",
        " \n",
        " As features disponíveis são:\n",
        "- User_ID\n",
        "- Product_ID\n",
        "- Gender\n",
        "- Occupation\n",
        "- City_Category\n",
        "- Stay_In_Current_City_Years\n",
        "- Marital_Status \n",
        "- Product_Category_1           \n",
        "- Product_Category_2             \n",
        "- Product_Category_3\n",
        "- Purchase\n",
        " \n",
        "\n",
        "Outras features que podem ser úteis para prever a quantidade de produtos e gastos: \n",
        "\n",
        "•\t Income (Salário Auferido vai sempre influenciar a quantidade de dinheiro que alguém pode dispender durante o mês).\n",
        "\n",
        "•\tTransaction_Date (Data das transações, início do mês, meio, final, tem influência na quantidade de dinheiro que as pessoas tem disponível para gastar).\n",
        "\n",
        "•\tPayment Method (Como é feito o pagamento? Cartão, Dinheiro, Crédito.., a partir de que valor monetário é requisitado o crédito?, qual o salário médio das pessoas que pedem créditos?).\n",
        "\n",
        "•\tSales  (Existência de promoções em vigor).\n",
        "\n",
        "•\tSales Date and Period (Caso existam promoções, em que data são feitas e durante quanto tempo as promoções ficam em vigor).\n",
        "\n",
        "\n",
        "** Encoding ou one hot encoding para cada feature discreta**\n",
        "- User_ID (Não usada)\n",
        "- Product_ID (Não usada)\n",
        "- Gender (Sim, uma vez que ser sexo Masculino ou Feminino não tem ligação um com o outro).\n",
        "- Occupation (Sim, uma vez que as o tempo passado na loja nao tem ligação entre os clientes).\n",
        "- City_Category (Sim, mesmo motivo de cima, categorias não têm relação umas com as outras).\n",
        "- Stay_In_Current_City_Years (Não uma vez que à medida que o valor aumenta, significa que o número de anos permanecidos na cidade também aumentou.\n",
        "- Marital_Status (Sim, porque ser Casado, Solteiro ou Divorciado não tem relação uns com os outros).\n",
        "- Product_Category_1    (Sim, uma vez as categorias dos produtos não estão relacionadas).      \n",
        "- Product_Category_2    (Sim, uma vez as categorias dos produtos não estão relacionadas).         \n",
        "- Product_Category_3 (Sim, uma vez as categorias dos produtos não estão relacionadas).\n",
        "- Purchase (Não, uma vez que são valores numéricos muito dispares referentes a montantes, logo não faz sentido usar um método de classificação binário para os classificar.\n"
      ]
    },
    {
      "metadata": {
        "id": "yqasohvGLewg",
        "colab_type": "code",
        "outputId": "63dc161a-cba1-4eeb-ce9e-2dd339460b02",
        "colab": {
          "base_uri": "https://localhost:8080/",
          "height": 204
        }
      },
      "cell_type": "code",
      "source": [
        "#Matriz de correlação entre as features usando df.corr();\n",
        "df.corr()\n",
        "\n",
        "\n"
      ],
      "execution_count": 78,
      "outputs": [
        {
          "output_type": "execute_result",
          "data": {
            "text/html": [
              "<div>\n",
              "<style scoped>\n",
              "    .dataframe tbody tr th:only-of-type {\n",
              "        vertical-align: middle;\n",
              "    }\n",
              "\n",
              "    .dataframe tbody tr th {\n",
              "        vertical-align: top;\n",
              "    }\n",
              "\n",
              "    .dataframe thead th {\n",
              "        text-align: right;\n",
              "    }\n",
              "</style>\n",
              "<table border=\"1\" class=\"dataframe\">\n",
              "  <thead>\n",
              "    <tr style=\"text-align: right;\">\n",
              "      <th></th>\n",
              "      <th>Marital_Status</th>\n",
              "      <th>Product_Category_1</th>\n",
              "      <th>Product_Category_2</th>\n",
              "      <th>Product_Category_3</th>\n",
              "      <th>Purchase</th>\n",
              "    </tr>\n",
              "  </thead>\n",
              "  <tbody>\n",
              "    <tr>\n",
              "      <th>Marital_Status</th>\n",
              "      <td>1.000000</td>\n",
              "      <td>0.020546</td>\n",
              "      <td>0.001146</td>\n",
              "      <td>-0.004363</td>\n",
              "      <td>0.000129</td>\n",
              "    </tr>\n",
              "    <tr>\n",
              "      <th>Product_Category_1</th>\n",
              "      <td>0.020546</td>\n",
              "      <td>1.000000</td>\n",
              "      <td>-0.040730</td>\n",
              "      <td>-0.389048</td>\n",
              "      <td>-0.314125</td>\n",
              "    </tr>\n",
              "    <tr>\n",
              "      <th>Product_Category_2</th>\n",
              "      <td>0.001146</td>\n",
              "      <td>-0.040730</td>\n",
              "      <td>1.000000</td>\n",
              "      <td>0.090284</td>\n",
              "      <td>0.038395</td>\n",
              "    </tr>\n",
              "    <tr>\n",
              "      <th>Product_Category_3</th>\n",
              "      <td>-0.004363</td>\n",
              "      <td>-0.389048</td>\n",
              "      <td>0.090284</td>\n",
              "      <td>1.000000</td>\n",
              "      <td>0.284120</td>\n",
              "    </tr>\n",
              "    <tr>\n",
              "      <th>Purchase</th>\n",
              "      <td>0.000129</td>\n",
              "      <td>-0.314125</td>\n",
              "      <td>0.038395</td>\n",
              "      <td>0.284120</td>\n",
              "      <td>1.000000</td>\n",
              "    </tr>\n",
              "  </tbody>\n",
              "</table>\n",
              "</div>"
            ],
            "text/plain": [
              "                    Marital_Status  Product_Category_1  Product_Category_2  \\\n",
              "Marital_Status            1.000000            0.020546            0.001146   \n",
              "Product_Category_1        0.020546            1.000000           -0.040730   \n",
              "Product_Category_2        0.001146           -0.040730            1.000000   \n",
              "Product_Category_3       -0.004363           -0.389048            0.090284   \n",
              "Purchase                  0.000129           -0.314125            0.038395   \n",
              "\n",
              "                    Product_Category_3  Purchase  \n",
              "Marital_Status               -0.004363  0.000129  \n",
              "Product_Category_1           -0.389048 -0.314125  \n",
              "Product_Category_2            0.090284  0.038395  \n",
              "Product_Category_3            1.000000  0.284120  \n",
              "Purchase                      0.284120  1.000000  "
            ]
          },
          "metadata": {
            "tags": []
          },
          "execution_count": 78
        }
      ]
    },
    {
      "metadata": {
        "id": "cY0gOrJ5NUER",
        "colab_type": "code",
        "outputId": "b7d34b08-9da6-42fe-a82b-fa46cfee2b35",
        "colab": {
          "base_uri": "https://localhost:8080/",
          "height": 399
        }
      },
      "cell_type": "code",
      "source": [
        "#Estatisticas da label/target\n",
        "display(df.describe())\n",
        "print('\\n Purchase')\n",
        "df['Purchase'].agg(['min','max','mean'])"
      ],
      "execution_count": 79,
      "outputs": [
        {
          "output_type": "display_data",
          "data": {
            "text/html": [
              "<div>\n",
              "<style scoped>\n",
              "    .dataframe tbody tr th:only-of-type {\n",
              "        vertical-align: middle;\n",
              "    }\n",
              "\n",
              "    .dataframe tbody tr th {\n",
              "        vertical-align: top;\n",
              "    }\n",
              "\n",
              "    .dataframe thead th {\n",
              "        text-align: right;\n",
              "    }\n",
              "</style>\n",
              "<table border=\"1\" class=\"dataframe\">\n",
              "  <thead>\n",
              "    <tr style=\"text-align: right;\">\n",
              "      <th></th>\n",
              "      <th>Marital_Status</th>\n",
              "      <th>Product_Category_1</th>\n",
              "      <th>Product_Category_2</th>\n",
              "      <th>Product_Category_3</th>\n",
              "      <th>Purchase</th>\n",
              "    </tr>\n",
              "  </thead>\n",
              "  <tbody>\n",
              "    <tr>\n",
              "      <th>count</th>\n",
              "      <td>537577.000000</td>\n",
              "      <td>537577.000000</td>\n",
              "      <td>537577.000000</td>\n",
              "      <td>537577.000000</td>\n",
              "      <td>537577.000000</td>\n",
              "    </tr>\n",
              "    <tr>\n",
              "      <th>mean</th>\n",
              "      <td>0.408797</td>\n",
              "      <td>5.295546</td>\n",
              "      <td>6.784907</td>\n",
              "      <td>3.871773</td>\n",
              "      <td>9333.859853</td>\n",
              "    </tr>\n",
              "    <tr>\n",
              "      <th>std</th>\n",
              "      <td>0.491612</td>\n",
              "      <td>3.750701</td>\n",
              "      <td>6.211618</td>\n",
              "      <td>6.265963</td>\n",
              "      <td>4981.022133</td>\n",
              "    </tr>\n",
              "    <tr>\n",
              "      <th>min</th>\n",
              "      <td>0.000000</td>\n",
              "      <td>1.000000</td>\n",
              "      <td>0.000000</td>\n",
              "      <td>0.000000</td>\n",
              "      <td>185.000000</td>\n",
              "    </tr>\n",
              "    <tr>\n",
              "      <th>25%</th>\n",
              "      <td>0.000000</td>\n",
              "      <td>1.000000</td>\n",
              "      <td>0.000000</td>\n",
              "      <td>0.000000</td>\n",
              "      <td>5866.000000</td>\n",
              "    </tr>\n",
              "    <tr>\n",
              "      <th>50%</th>\n",
              "      <td>0.000000</td>\n",
              "      <td>5.000000</td>\n",
              "      <td>5.000000</td>\n",
              "      <td>0.000000</td>\n",
              "      <td>8062.000000</td>\n",
              "    </tr>\n",
              "    <tr>\n",
              "      <th>75%</th>\n",
              "      <td>1.000000</td>\n",
              "      <td>8.000000</td>\n",
              "      <td>14.000000</td>\n",
              "      <td>8.000000</td>\n",
              "      <td>12073.000000</td>\n",
              "    </tr>\n",
              "    <tr>\n",
              "      <th>max</th>\n",
              "      <td>1.000000</td>\n",
              "      <td>18.000000</td>\n",
              "      <td>18.000000</td>\n",
              "      <td>18.000000</td>\n",
              "      <td>23961.000000</td>\n",
              "    </tr>\n",
              "  </tbody>\n",
              "</table>\n",
              "</div>"
            ],
            "text/plain": [
              "       Marital_Status  Product_Category_1  Product_Category_2  \\\n",
              "count   537577.000000       537577.000000       537577.000000   \n",
              "mean         0.408797            5.295546            6.784907   \n",
              "std          0.491612            3.750701            6.211618   \n",
              "min          0.000000            1.000000            0.000000   \n",
              "25%          0.000000            1.000000            0.000000   \n",
              "50%          0.000000            5.000000            5.000000   \n",
              "75%          1.000000            8.000000           14.000000   \n",
              "max          1.000000           18.000000           18.000000   \n",
              "\n",
              "       Product_Category_3       Purchase  \n",
              "count       537577.000000  537577.000000  \n",
              "mean             3.871773    9333.859853  \n",
              "std              6.265963    4981.022133  \n",
              "min              0.000000     185.000000  \n",
              "25%              0.000000    5866.000000  \n",
              "50%              0.000000    8062.000000  \n",
              "75%              8.000000   12073.000000  \n",
              "max             18.000000   23961.000000  "
            ]
          },
          "metadata": {
            "tags": []
          }
        },
        {
          "output_type": "stream",
          "text": [
            "\n",
            " Purchase\n"
          ],
          "name": "stdout"
        },
        {
          "output_type": "execute_result",
          "data": {
            "text/plain": [
              "min       185.000000\n",
              "max     23961.000000\n",
              "mean     9333.859853\n",
              "Name: Purchase, dtype: float64"
            ]
          },
          "metadata": {
            "tags": []
          },
          "execution_count": 79
        }
      ]
    },
    {
      "metadata": {
        "id": "HzNL6kdkk8Fb",
        "colab_type": "text"
      },
      "cell_type": "markdown",
      "source": [
        "**Analise em termos estatísticos a Label/target que tem para já como problema:**\n",
        "\n",
        "Como a nossa label/target é Purchase, podemos concluir que o gasto médio é 9333 €, acaba por ser o lucro médio na Black Friday para a loja. A compra de valor mais baixo foi 185 € e o mais alto foi 23961 €. O total de dinheiro gasto foi 537577 €, lucro da loja. "
      ]
    },
    {
      "metadata": {
        "id": "nazuDNxSmRSa",
        "colab_type": "text"
      },
      "cell_type": "markdown",
      "source": [
        "# Analisando a nossa label/target"
      ]
    },
    {
      "metadata": {
        "id": "4B33oYmwkdhb",
        "colab_type": "code",
        "outputId": "1040adea-dc28-4fb7-8123-12700f6846b4",
        "colab": {
          "base_uri": "https://localhost:8080/",
          "height": 437
        }
      },
      "cell_type": "code",
      "source": [
        "gastoPorIdade = df.groupby(by='Age').sum()['Purchase']\n",
        "plt.figure(figsize=(12,6))\n",
        "\n",
        "sns.barplot(x=gastoPorIdade.index,y=gastoPorIdade.values, palette=\"Blues_d\")\n",
        "plt.title('Média de gasto por intervalo de idade (€)')\n",
        "plt.show()"
      ],
      "execution_count": 80,
      "outputs": [
        {
          "output_type": "stream",
          "text": [
            "/usr/local/lib/python3.6/dist-packages/seaborn/categorical.py:1428: FutureWarning: remove_na is deprecated and is a private function. Do not use.\n",
            "  stat_data = remove_na(group_data)\n"
          ],
          "name": "stderr"
        },
        {
          "output_type": "display_data",
          "data": {
            "image/png": "[encoded data removed]",
            "text/plain": [
              "<matplotlib.figure.Figure at 0x7f7a6c410ac8>"
            ]
          },
          "metadata": {
            "tags": []
          }
        }
      ]
    },
    {
      "metadata": {
        "id": "N_52kQQSm09J",
        "colab_type": "code",
        "outputId": "cf1c9d2f-b942-4fdf-fe52-c46e0f773d12",
        "colab": {
          "base_uri": "https://localhost:8080/",
          "height": 437
        }
      },
      "cell_type": "code",
      "source": [
        "categoria = []\n",
        "mediaGasto = []\n",
        "\n",
        "\n",
        "for i in df['Product_Category_1'].unique():\n",
        "    categoria.append(i)\n",
        "categoria.sort()\n",
        "\n",
        "for e in categoria:\n",
        "    mediaGasto.append(df[df['Product_Category_1']==e]['Purchase'].mean())\n",
        "\n",
        "plt.figure(figsize=(12,6))\n",
        "\n",
        "sns.barplot(x=categoria,y=mediaGasto)\n",
        "plt.title('Média de compra por categoria de produto')\n",
        "plt.xlabel('Produto Categoria 1')\n",
        "plt.ylabel('Média de gastos por categorias do produto 1 vendidas (€)')\n",
        "plt.show()"
      ],
      "execution_count": 82,
      "outputs": [
        {
          "output_type": "stream",
          "text": [
            "/usr/local/lib/python3.6/dist-packages/seaborn/categorical.py:1428: FutureWarning: remove_na is deprecated and is a private function. Do not use.\n",
            "  stat_data = remove_na(group_data)\n"
          ],
          "name": "stderr"
        },
        {
          "output_type": "display_data",
          "data": {
            "image/png": "[encoded data removed]",
            "text/plain": [
              "<matplotlib.figure.Figure at 0x7f7a6c855588>"
            ]
          },
          "metadata": {
            "tags": []
          }
        }
      ]
    },
    {
      "metadata": {
        "id": "9Mm19Iqlm9i9",
        "colab_type": "code",
        "outputId": "adfd1a6d-2475-4952-c4e6-702606d40749",
        "colab": {
          "base_uri": "https://localhost:8080/",
          "height": 437
        }
      },
      "cell_type": "code",
      "source": [
        "categoria = []\n",
        "mediaGasto = []\n",
        "\n",
        "\n",
        "for i in df['Product_Category_2'].unique():\n",
        "    categoria.append(i)\n",
        "categoria.sort()\n",
        "\n",
        "for e in categoria:\n",
        "    mediaGasto.append(df[df['Product_Category_2']==e]['Purchase'].mean())\n",
        "\n",
        "plt.figure(figsize=(12,6))\n",
        "\n",
        "sns.barplot(x=categoria,y=mediaGasto)\n",
        "plt.title('Média de compra por categoria de produto')\n",
        "plt.xlabel('Produto Categoria 2')\n",
        "plt.ylabel('Média de gastos por categorias do produto 2 vendidas(€)')\n",
        "plt.show()"
      ],
      "execution_count": 83,
      "outputs": [
        {
          "output_type": "stream",
          "text": [
            "/usr/local/lib/python3.6/dist-packages/seaborn/categorical.py:1428: FutureWarning: remove_na is deprecated and is a private function. Do not use.\n",
            "  stat_data = remove_na(group_data)\n"
          ],
          "name": "stderr"
        },
        {
          "output_type": "display_data",
          "data": {
            "image/png": "[encoded data removed]",
            "text/plain": [
              "<matplotlib.figure.Figure at 0x7f7a6cdb5cf8>"
            ]
          },
          "metadata": {
            "tags": []
          }
        }
      ]
    },
    {
      "metadata": {
        "id": "YLnoDYb9nDnS",
        "colab_type": "code",
        "outputId": "bf47f70c-18e6-44a8-ea4f-dd9b7fb1570b",
        "colab": {
          "base_uri": "https://localhost:8080/",
          "height": 437
        }
      },
      "cell_type": "code",
      "source": [
        "categoria = []\n",
        "mediaGasto = []\n",
        "\n",
        "\n",
        "for i in df['Product_Category_3'].unique():\n",
        "    categoria.append(i)\n",
        "categoria.sort()\n",
        "\n",
        "for e in categoria:\n",
        "    mediaGasto.append(df[df['Product_Category_3']==e]['Purchase'].mean())\n",
        "\n",
        "plt.figure(figsize=(12,6))\n",
        "\n",
        "sns.barplot(x=categoria,y=mediaGasto)\n",
        "plt.title('Média de compra por categoria de produto')\n",
        "plt.xlabel('Produto categoria 3')\n",
        "plt.ylabel('Média de gastos por categorias do produto 3 vendidas(€)')\n",
        "plt.show()"
      ],
      "execution_count": 84,
      "outputs": [
        {
          "output_type": "stream",
          "text": [
            "/usr/local/lib/python3.6/dist-packages/seaborn/categorical.py:1428: FutureWarning: remove_na is deprecated and is a private function. Do not use.\n",
            "  stat_data = remove_na(group_data)\n"
          ],
          "name": "stderr"
        },
        {
          "output_type": "display_data",
          "data": {
            "image/png": "[encoded data removed]",
            "text/plain": [
              "<matplotlib.figure.Figure at 0x7f7a6c2af4a8>"
            ]
          },
          "metadata": {
            "tags": []
          }
        }
      ]
    },
    {
      "metadata": {
        "id": "SqqYa6tC5JNU",
        "colab_type": "code",
        "colab": {
          "base_uri": "https://localhost:8080/",
          "height": 437
        },
        "outputId": "a499d6f2-ecc5-4a69-f6f5-0faeb7d6e2d5"
      },
      "cell_type": "code",
      "source": [
        "gastoPorCidade = df.groupby(by='City_Category').sum()['Purchase']\n",
        "plt.figure(figsize=(12,6))\n",
        "\n",
        "sns.barplot(x=gastoPorCidade.index,y=gastoPorCidade.values, palette=\"Blues_d\")\n",
        "plt.title('Média de gasto por categoria de cidade (€)')\n",
        "plt.show()"
      ],
      "execution_count": 85,
      "outputs": [
        {
          "output_type": "stream",
          "text": [
            "/usr/local/lib/python3.6/dist-packages/seaborn/categorical.py:1428: FutureWarning: remove_na is deprecated and is a private function. Do not use.\n",
            "  stat_data = remove_na(group_data)\n"
          ],
          "name": "stderr"
        },
        {
          "output_type": "display_data",
          "data": {
            "image/png": "[encoded data removed]",
            "text/plain": [
              "<matplotlib.figure.Figure at 0x7f7a6c558748>"
            ]
          },
          "metadata": {
            "tags": []
          }
        }
      ]
    },
    {
      "metadata": {
        "id": "TvBbm14c5SOH",
        "colab_type": "code",
        "colab": {
          "base_uri": "https://localhost:8080/",
          "height": 437
        },
        "outputId": "40beed27-ce10-406e-abd6-75912e332408"
      },
      "cell_type": "code",
      "source": [
        "gastoPorAnosCidade = df.groupby(by='Stay_In_Current_City_Years').sum()['Purchase']\n",
        "plt.figure(figsize=(12,6))\n",
        "\n",
        "sns.barplot(x=gastoPorAnosCidade.index,y=gastoPorAnosCidade.values, palette=\"Blues_d\")\n",
        "plt.title('Média de gasto por anos a viver na cidade (€)')\n",
        "plt.show()"
      ],
      "execution_count": 86,
      "outputs": [
        {
          "output_type": "stream",
          "text": [
            "/usr/local/lib/python3.6/dist-packages/seaborn/categorical.py:1428: FutureWarning: remove_na is deprecated and is a private function. Do not use.\n",
            "  stat_data = remove_na(group_data)\n"
          ],
          "name": "stderr"
        },
        {
          "output_type": "display_data",
          "data": {
            "image/png": "[encoded data removed]",
            "text/plain": [
              "<matplotlib.figure.Figure at 0x7f7a6c268c18>"
            ]
          },
          "metadata": {
            "tags": []
          }
        }
      ]
    },
    {
      "metadata": {
        "id": "4o6Akn1ov4ZN",
        "colab_type": "text"
      },
      "cell_type": "markdown",
      "source": [
        "### Análise dos gráficos\n",
        "\n",
        "Olhando para o gráfico da contagem de homens e mulheres que aderiram ao black friday conclui-se que houve mais homens que mulheres mas, analisando o gasto total de cada género verifica-se que, apesar de haver mais homens em loja que mulheres, os gastos entre os dois géneros não foram muito diferentes (9504.772-8809.761=695,011, diferença dos gastos de cada género). \n",
        "No gráfico do gasto por intervalo de idade os clientes entre 26-35 anos gastaram mais na loja.\n",
        "Se comprararmos as idades dos clientes com o género a mesma situação acontece, os homens gastam mais que as mulheres e acontece mais no intervalo de idades 26-35.\n",
        "Podemos verificar, no gráfico que compara gastos entre idades e situação matrimonial, que entre as idades 0-17 e casados não há barras o que é normal. Se olharmos acima da idade 46 há muito menos mulheres. Os homens casados entre 46-55 anos gastaram mais que mulheres casadas. Isto pode implicar que, apesar de as mulheres gostarem muito de fazer compras é possível que sejam os maridos a pagar por elas, por esta razão os dados mostram que há mais contagem de homens na loja e há mais gasto por parte dos homens, casados e solteiros.\n",
        "Nas categorias de produtos também não temos informação que tipo de produto se trata, poderíamos ter, por exemplo, categoria de produto de higiene feminina, assim comparavamos os gastos de cada género em relação a este produto e concluir se as mulheres foram à loja comprar este produto ou se pediram aos maridos para irem à loja comprar para elas.\n",
        "Em relação das categorias de produtos, segundo os 3 gráficos para as 3 categorias, a categoria de produto 1 é a menos comprada e a categoria de produto 3 é a mais comprada. \n",
        "Na categoria de produto 1, os homens casados e solteiros gastaram mais, não houve muita adesão por parte das mulheres. \n",
        "Na categoria de produto 2, mas não houve muita diferença de gastos, continuando os homens (casados e solteiros) a gastar mais.\n",
        "Na categoria de produto 3 foi o tipo de produto mais vendido na black friday mas os clientes compraram mais a categoria 0 (independentemente da situação matrimonial).\n",
        "No gráfico da categoria de cidade onde os clientes vivem houve mais adesão para quem mora na categoria de cidade B, seguido da cidade C e A, respectivamente. Os clientes que moram na zona B foram os que gastaram mais na loja. Isto pode indicar que a loja esteja posicionada no centro da cidade, sendo a zona B uma zona de subúrbios e onde mais população mora devido ao preços altos de imobiliária nos centros da cidade.\n",
        "No gráfico onde indica os anos que os clientes moram na cidade mostra que quem mora na cidade à 1 ano adreriram mais às promoções de black friday. Os clientes que moram à 2, 3, 4+ e 0 gastaram menos, respectivamente. Como os clientes que moram à um ano na cidade tiveram tempo de explorar e conhecer todos os 'cantos da casa', assim chega a black friday e já sabem tudo o que vai acontecer nas lojas da cidade. Os clientes que moram à 0 anos na cidade (menos de 1 ano) ainda não tiveram o tempo e disponibilidade de conhecer todos os espaços da cidade, daí a menor adesão às promoções desse dia. Apartir dos 2 anos as pessoas já se estabeleceram na cidade e já tem a vida mais organizada, não tem tanto a necessidade de gastar dinheiro no black friday. Se aderiram a este dia é porque viram alguma promoção de algum produto que ainda não tem ou para substituir por algum que já tem à muito tempo."
      ]
    }
  ]
}